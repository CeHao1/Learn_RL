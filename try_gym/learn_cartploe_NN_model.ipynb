{
 "cells": [
  {
   "cell_type": "code",
   "execution_count": 1,
   "id": "overhead-grade",
   "metadata": {},
   "outputs": [],
   "source": [
    "# import sys, os.path\n",
    "# sys.path.insert(0, os.path.join(os.path.dirname(__file__), 'name'))"
   ]
  },
  {
   "cell_type": "code",
   "execution_count": 2,
   "id": "detected-daisy",
   "metadata": {},
   "outputs": [],
   "source": [
    "from src.NN.cartpole_nn import cartpole_nn\n",
    "from src.collector.runner import runner\n",
    "from src.collector.collect import cartpole_collect\n",
    "import numpy as np\n",
    "import gym\n",
    "import matplotlib.pyplot as plt\n",
    "\n",
    "%matplotlib inline"
   ]
  },
  {
   "cell_type": "code",
   "execution_count": 3,
   "id": "covered-organ",
   "metadata": {
    "scrolled": true
   },
   "outputs": [],
   "source": [
    "# generate training data\n",
    "\n",
    "# run = runner(100)\n",
    "# run.run_times()\n",
    "# run.save_np('sv3')"
   ]
  },
  {
   "cell_type": "code",
   "execution_count": 4,
   "id": "short-georgia",
   "metadata": {},
   "outputs": [],
   "source": [
    "# load data\n",
    "# data = np.load(\"cartpole_dataset.npy\", allow_pickle=True)\n",
    "data = np.load(\"sv2.npy\", allow_pickle=True)\n",
    "\n",
    "train_data = np.array(data[0]['SAs'])\n",
    "\n",
    "# train_goal = np.array(data[0]['ABs'])\n",
    "train_goal = np.array(data[0]['Ss'])\n",
    "\n",
    "\n",
    "data2 = np.load(\"sv3.npy\", allow_pickle=True)\n",
    "test_data = np.array(data2[0]['SAs'])\n",
    "test_goal = np.array(data2[0]['Ss'])"
   ]
  },
  {
   "cell_type": "code",
   "execution_count": 5,
   "id": "behavioral-mobile",
   "metadata": {},
   "outputs": [],
   "source": [
    "nn = cartpole_nn(train_data, train_goal)"
   ]
  },
  {
   "cell_type": "code",
   "execution_count": 6,
   "id": "foreign-narrow",
   "metadata": {},
   "outputs": [
    {
     "name": "stdout",
     "output_type": "stream",
     "text": [
      "Epoch 1/100\n",
      "291/291 - 1s - loss: 0.0158 - mse: 0.0158 - val_loss: 0.0025 - val_mse: 0.0025\n",
      "Epoch 2/100\n",
      "291/291 - 0s - loss: 0.0011 - mse: 0.0011 - val_loss: 3.9167e-04 - val_mse: 3.9167e-04\n",
      "Epoch 3/100\n",
      "291/291 - 0s - loss: 7.1341e-04 - mse: 7.1341e-04 - val_loss: 5.0032e-04 - val_mse: 5.0032e-04\n",
      "Epoch 4/100\n",
      "291/291 - 0s - loss: 3.5256e-04 - mse: 3.5256e-04 - val_loss: 6.6132e-04 - val_mse: 6.6132e-04\n",
      "Epoch 5/100\n",
      "291/291 - 0s - loss: 5.3894e-04 - mse: 5.3894e-04 - val_loss: 0.0029 - val_mse: 0.0029\n",
      "Epoch 6/100\n",
      "291/291 - 0s - loss: 3.2962e-04 - mse: 3.2962e-04 - val_loss: 2.7457e-04 - val_mse: 2.7457e-04\n",
      "Epoch 7/100\n",
      "291/291 - 0s - loss: 3.1474e-04 - mse: 3.1474e-04 - val_loss: 3.1935e-04 - val_mse: 3.1935e-04\n",
      "Epoch 8/100\n",
      "291/291 - 0s - loss: 2.9834e-04 - mse: 2.9834e-04 - val_loss: 4.3797e-04 - val_mse: 4.3797e-04\n",
      "Epoch 9/100\n",
      "291/291 - 0s - loss: 3.1560e-04 - mse: 3.1560e-04 - val_loss: 2.3199e-04 - val_mse: 2.3199e-04\n",
      "Epoch 10/100\n",
      "291/291 - 0s - loss: 1.8028e-04 - mse: 1.8028e-04 - val_loss: 2.6327e-04 - val_mse: 2.6327e-04\n",
      "Epoch 11/100\n",
      "291/291 - 0s - loss: 2.6385e-04 - mse: 2.6385e-04 - val_loss: 2.4827e-04 - val_mse: 2.4827e-04\n",
      "Epoch 12/100\n",
      "291/291 - 0s - loss: 2.0065e-04 - mse: 2.0065e-04 - val_loss: 8.9475e-05 - val_mse: 8.9475e-05\n",
      "Epoch 13/100\n",
      "291/291 - 0s - loss: 1.0019e-04 - mse: 1.0019e-04 - val_loss: 1.2882e-04 - val_mse: 1.2882e-04\n",
      "Epoch 14/100\n",
      "291/291 - 0s - loss: 2.3286e-04 - mse: 2.3286e-04 - val_loss: 2.5263e-04 - val_mse: 2.5263e-04\n",
      "Epoch 15/100\n",
      "291/291 - 0s - loss: 1.2746e-04 - mse: 1.2746e-04 - val_loss: 1.7006e-04 - val_mse: 1.7006e-04\n",
      "Epoch 16/100\n",
      "291/291 - 0s - loss: 1.8081e-04 - mse: 1.8081e-04 - val_loss: 2.4218e-04 - val_mse: 2.4218e-04\n",
      "Epoch 17/100\n",
      "291/291 - 0s - loss: 2.2674e-04 - mse: 2.2674e-04 - val_loss: 1.1643e-04 - val_mse: 1.1643e-04\n",
      "Epoch 18/100\n",
      "291/291 - 0s - loss: 9.9683e-05 - mse: 9.9683e-05 - val_loss: 1.6631e-04 - val_mse: 1.6631e-04\n",
      "Epoch 19/100\n",
      "291/291 - 0s - loss: 1.9507e-04 - mse: 1.9507e-04 - val_loss: 2.4102e-04 - val_mse: 2.4102e-04\n",
      "Epoch 20/100\n",
      "291/291 - 0s - loss: 1.1653e-04 - mse: 1.1653e-04 - val_loss: 1.2676e-04 - val_mse: 1.2676e-04\n",
      "Epoch 21/100\n",
      "291/291 - 0s - loss: 8.7703e-05 - mse: 8.7703e-05 - val_loss: 1.2112e-04 - val_mse: 1.2112e-04\n",
      "Epoch 22/100\n",
      "291/291 - 0s - loss: 1.7499e-04 - mse: 1.7499e-04 - val_loss: 1.2714e-04 - val_mse: 1.2714e-04\n",
      "Epoch 23/100\n",
      "291/291 - 0s - loss: 9.5741e-05 - mse: 9.5741e-05 - val_loss: 9.5064e-05 - val_mse: 9.5064e-05\n",
      "Epoch 24/100\n",
      "291/291 - 0s - loss: 2.8019e-04 - mse: 2.8019e-04 - val_loss: 4.6345e-04 - val_mse: 4.6345e-04\n",
      "Epoch 25/100\n",
      "291/291 - 0s - loss: 9.6003e-05 - mse: 9.6003e-05 - val_loss: 8.3747e-05 - val_mse: 8.3747e-05\n",
      "Epoch 26/100\n",
      "291/291 - 0s - loss: 1.4939e-04 - mse: 1.4939e-04 - val_loss: 2.5571e-04 - val_mse: 2.5571e-04\n",
      "Epoch 27/100\n",
      "291/291 - 0s - loss: 5.6479e-05 - mse: 5.6479e-05 - val_loss: 1.2057e-04 - val_mse: 1.2057e-04\n",
      "Epoch 28/100\n",
      "291/291 - 0s - loss: 1.1310e-04 - mse: 1.1310e-04 - val_loss: 3.1531e-04 - val_mse: 3.1531e-04\n",
      "Epoch 29/100\n",
      "291/291 - 0s - loss: 1.2716e-04 - mse: 1.2716e-04 - val_loss: 1.3150e-04 - val_mse: 1.3150e-04\n",
      "Epoch 30/100\n",
      "291/291 - 0s - loss: 9.9323e-05 - mse: 9.9323e-05 - val_loss: 1.1940e-04 - val_mse: 1.1940e-04\n",
      "Epoch 31/100\n",
      "291/291 - 0s - loss: 1.6365e-04 - mse: 1.6365e-04 - val_loss: 3.0315e-04 - val_mse: 3.0315e-04\n",
      "Epoch 32/100\n",
      "291/291 - 0s - loss: 9.9417e-05 - mse: 9.9417e-05 - val_loss: 1.1017e-04 - val_mse: 1.1017e-04\n",
      "Epoch 33/100\n",
      "291/291 - 0s - loss: 5.6688e-05 - mse: 5.6688e-05 - val_loss: 8.9581e-05 - val_mse: 8.9581e-05\n",
      "Epoch 34/100\n",
      "291/291 - 0s - loss: 1.0859e-04 - mse: 1.0859e-04 - val_loss: 1.1448e-04 - val_mse: 1.1448e-04\n",
      "Epoch 35/100\n",
      "291/291 - 0s - loss: 1.1975e-04 - mse: 1.1975e-04 - val_loss: 1.0882e-04 - val_mse: 1.0882e-04\n",
      "Epoch 36/100\n",
      "291/291 - 0s - loss: 5.0451e-05 - mse: 5.0451e-05 - val_loss: 8.2510e-05 - val_mse: 8.2510e-05\n",
      "Epoch 37/100\n",
      "291/291 - 0s - loss: 1.5270e-04 - mse: 1.5270e-04 - val_loss: 1.6433e-04 - val_mse: 1.6433e-04\n",
      "Epoch 38/100\n",
      "291/291 - 0s - loss: 7.4879e-05 - mse: 7.4879e-05 - val_loss: 1.5282e-04 - val_mse: 1.5282e-04\n",
      "Epoch 39/100\n",
      "291/291 - 0s - loss: 9.2735e-05 - mse: 9.2735e-05 - val_loss: 5.2024e-05 - val_mse: 5.2024e-05\n",
      "Epoch 40/100\n",
      "291/291 - 0s - loss: 1.3682e-04 - mse: 1.3682e-04 - val_loss: 2.3723e-04 - val_mse: 2.3723e-04\n",
      "Epoch 41/100\n",
      "291/291 - 0s - loss: 6.3570e-05 - mse: 6.3570e-05 - val_loss: 7.3599e-05 - val_mse: 7.3599e-05\n",
      "Epoch 42/100\n",
      "291/291 - 0s - loss: 7.5997e-05 - mse: 7.5997e-05 - val_loss: 4.6974e-05 - val_mse: 4.6974e-05\n",
      "Epoch 43/100\n",
      "291/291 - 0s - loss: 1.0584e-04 - mse: 1.0584e-04 - val_loss: 5.2306e-05 - val_mse: 5.2306e-05\n",
      "Epoch 44/100\n",
      "291/291 - 0s - loss: 1.7039e-04 - mse: 1.7039e-04 - val_loss: 1.0763e-04 - val_mse: 1.0763e-04\n",
      "Epoch 45/100\n",
      "291/291 - 0s - loss: 4.3233e-05 - mse: 4.3233e-05 - val_loss: 5.9944e-05 - val_mse: 5.9944e-05\n",
      "Epoch 46/100\n",
      "291/291 - 0s - loss: 3.5621e-05 - mse: 3.5621e-05 - val_loss: 9.2007e-05 - val_mse: 9.2007e-05\n",
      "Epoch 47/100\n",
      "291/291 - 0s - loss: 9.0315e-05 - mse: 9.0315e-05 - val_loss: 3.0038e-04 - val_mse: 3.0038e-04\n",
      "Epoch 48/100\n",
      "291/291 - 0s - loss: 1.8147e-04 - mse: 1.8147e-04 - val_loss: 5.6727e-05 - val_mse: 5.6727e-05\n",
      "Epoch 49/100\n",
      "291/291 - 0s - loss: 3.4699e-05 - mse: 3.4699e-05 - val_loss: 6.7079e-05 - val_mse: 6.7079e-05\n",
      "Epoch 50/100\n",
      "291/291 - 0s - loss: 3.1682e-05 - mse: 3.1682e-05 - val_loss: 4.8529e-05 - val_mse: 4.8529e-05\n",
      "Epoch 51/100\n",
      "291/291 - 0s - loss: 2.2826e-04 - mse: 2.2826e-04 - val_loss: 1.7078e-04 - val_mse: 1.7078e-04\n",
      "Epoch 52/100\n",
      "291/291 - 0s - loss: 5.6848e-05 - mse: 5.6848e-05 - val_loss: 5.3964e-05 - val_mse: 5.3964e-05\n",
      "Epoch 53/100\n",
      "291/291 - 0s - loss: 3.7688e-05 - mse: 3.7688e-05 - val_loss: 7.5909e-05 - val_mse: 7.5909e-05\n",
      "Epoch 54/100\n",
      "291/291 - 0s - loss: 5.4558e-05 - mse: 5.4558e-05 - val_loss: 1.7297e-04 - val_mse: 1.7297e-04\n",
      "Epoch 55/100\n",
      "291/291 - 0s - loss: 1.3588e-04 - mse: 1.3588e-04 - val_loss: 7.2336e-05 - val_mse: 7.2336e-05\n",
      "Epoch 56/100\n",
      "291/291 - 0s - loss: 3.0497e-05 - mse: 3.0497e-05 - val_loss: 4.8830e-05 - val_mse: 4.8830e-05\n",
      "Epoch 57/100\n",
      "291/291 - 0s - loss: 1.2148e-04 - mse: 1.2148e-04 - val_loss: 1.0512e-04 - val_mse: 1.0512e-04\n",
      "Epoch 58/100\n",
      "291/291 - 0s - loss: 4.4798e-05 - mse: 4.4798e-05 - val_loss: 5.1919e-05 - val_mse: 5.1919e-05\n",
      "Epoch 59/100\n",
      "291/291 - 0s - loss: 3.5942e-05 - mse: 3.5942e-05 - val_loss: 8.8156e-05 - val_mse: 8.8156e-05\n",
      "Epoch 60/100\n",
      "291/291 - 0s - loss: 6.9605e-05 - mse: 6.9605e-05 - val_loss: 1.2726e-04 - val_mse: 1.2726e-04\n",
      "Epoch 61/100\n",
      "291/291 - 0s - loss: 1.0929e-04 - mse: 1.0929e-04 - val_loss: 1.0222e-04 - val_mse: 1.0222e-04\n",
      "Epoch 62/100\n",
      "291/291 - 0s - loss: 4.4248e-05 - mse: 4.4248e-05 - val_loss: 5.3183e-05 - val_mse: 5.3183e-05\n",
      "Epoch 63/100\n",
      "291/291 - 0s - loss: 3.6253e-05 - mse: 3.6253e-05 - val_loss: 4.6888e-05 - val_mse: 4.6888e-05\n",
      "Epoch 64/100\n",
      "291/291 - 0s - loss: 9.6157e-05 - mse: 9.6157e-05 - val_loss: 1.7393e-04 - val_mse: 1.7393e-04\n",
      "Epoch 65/100\n",
      "291/291 - 0s - loss: 8.6815e-05 - mse: 8.6815e-05 - val_loss: 5.2638e-05 - val_mse: 5.2638e-05\n",
      "Epoch 66/100\n",
      "291/291 - 0s - loss: 3.4002e-05 - mse: 3.4002e-05 - val_loss: 1.1028e-04 - val_mse: 1.1028e-04\n",
      "Epoch 67/100\n",
      "291/291 - 0s - loss: 3.6113e-05 - mse: 3.6113e-05 - val_loss: 3.4693e-05 - val_mse: 3.4693e-05\n",
      "Epoch 68/100\n",
      "291/291 - 0s - loss: 1.4320e-04 - mse: 1.4320e-04 - val_loss: 6.2594e-05 - val_mse: 6.2594e-05\n",
      "Epoch 69/100\n",
      "291/291 - 0s - loss: 3.8772e-05 - mse: 3.8772e-05 - val_loss: 4.7428e-05 - val_mse: 4.7428e-05\n",
      "Epoch 70/100\n",
      "291/291 - 0s - loss: 2.9227e-05 - mse: 2.9227e-05 - val_loss: 5.3640e-05 - val_mse: 5.3640e-05\n",
      "Epoch 71/100\n",
      "291/291 - 0s - loss: 1.0449e-04 - mse: 1.0449e-04 - val_loss: 1.0124e-04 - val_mse: 1.0124e-04\n",
      "Epoch 72/100\n",
      "291/291 - 0s - loss: 2.5189e-05 - mse: 2.5189e-05 - val_loss: 4.1277e-05 - val_mse: 4.1277e-05\n",
      "Epoch 73/100\n",
      "291/291 - 0s - loss: 2.8399e-05 - mse: 2.8399e-05 - val_loss: 5.2582e-05 - val_mse: 5.2582e-05\n",
      "Epoch 74/100\n",
      "291/291 - 0s - loss: 4.8628e-05 - mse: 4.8628e-05 - val_loss: 7.0939e-05 - val_mse: 7.0939e-05\n",
      "Epoch 75/100\n",
      "291/291 - 0s - loss: 7.0602e-05 - mse: 7.0602e-05 - val_loss: 2.3637e-04 - val_mse: 2.3637e-04\n",
      "Epoch 76/100\n",
      "291/291 - 0s - loss: 5.5652e-05 - mse: 5.5652e-05 - val_loss: 9.4848e-05 - val_mse: 9.4848e-05\n",
      "Epoch 77/100\n",
      "291/291 - 0s - loss: 4.9754e-05 - mse: 4.9754e-05 - val_loss: 4.0822e-05 - val_mse: 4.0822e-05\n"
     ]
    },
    {
     "name": "stdout",
     "output_type": "stream",
     "text": [
      "Epoch 78/100\n",
      "291/291 - 0s - loss: 2.2689e-05 - mse: 2.2689e-05 - val_loss: 4.5711e-05 - val_mse: 4.5711e-05\n",
      "Epoch 79/100\n",
      "291/291 - 0s - loss: 9.5074e-05 - mse: 9.5074e-05 - val_loss: 6.0203e-05 - val_mse: 6.0203e-05\n",
      "Epoch 80/100\n",
      "291/291 - 0s - loss: 3.1350e-05 - mse: 3.1350e-05 - val_loss: 1.5982e-04 - val_mse: 1.5982e-04\n",
      "Epoch 81/100\n",
      "291/291 - 0s - loss: 1.5429e-04 - mse: 1.5429e-04 - val_loss: 3.8598e-05 - val_mse: 3.8598e-05\n",
      "Epoch 82/100\n",
      "291/291 - 0s - loss: 1.7719e-05 - mse: 1.7719e-05 - val_loss: 2.3430e-05 - val_mse: 2.3430e-05\n",
      "Epoch 83/100\n",
      "291/291 - 0s - loss: 3.2118e-05 - mse: 3.2118e-05 - val_loss: 5.6629e-05 - val_mse: 5.6629e-05\n",
      "Epoch 84/100\n",
      "291/291 - 0s - loss: 2.5917e-05 - mse: 2.5917e-05 - val_loss: 8.2571e-05 - val_mse: 8.2571e-05\n",
      "Epoch 85/100\n",
      "291/291 - 0s - loss: 5.2273e-05 - mse: 5.2273e-05 - val_loss: 8.1349e-05 - val_mse: 8.1349e-05\n",
      "Epoch 86/100\n",
      "291/291 - 0s - loss: 7.1112e-05 - mse: 7.1112e-05 - val_loss: 1.6746e-04 - val_mse: 1.6746e-04\n",
      "Epoch 87/100\n",
      "291/291 - 0s - loss: 4.8014e-05 - mse: 4.8014e-05 - val_loss: 6.6969e-05 - val_mse: 6.6969e-05\n",
      "Epoch 88/100\n",
      "291/291 - 0s - loss: 5.2172e-05 - mse: 5.2172e-05 - val_loss: 4.5734e-05 - val_mse: 4.5734e-05\n",
      "Epoch 89/100\n",
      "291/291 - 0s - loss: 3.0700e-05 - mse: 3.0700e-05 - val_loss: 4.3296e-05 - val_mse: 4.3296e-05\n",
      "Epoch 90/100\n",
      "291/291 - 0s - loss: 5.8428e-05 - mse: 5.8428e-05 - val_loss: 1.2235e-04 - val_mse: 1.2235e-04\n",
      "Epoch 91/100\n",
      "291/291 - 0s - loss: 5.6292e-05 - mse: 5.6292e-05 - val_loss: 3.1216e-05 - val_mse: 3.1216e-05\n",
      "Epoch 92/100\n",
      "291/291 - 0s - loss: 2.3490e-05 - mse: 2.3490e-05 - val_loss: 3.1131e-05 - val_mse: 3.1131e-05\n",
      "Epoch 93/100\n",
      "291/291 - 0s - loss: 3.6547e-05 - mse: 3.6547e-05 - val_loss: 4.4303e-05 - val_mse: 4.4303e-05\n",
      "Epoch 94/100\n",
      "291/291 - 0s - loss: 5.3955e-05 - mse: 5.3955e-05 - val_loss: 9.2125e-05 - val_mse: 9.2125e-05\n",
      "Epoch 95/100\n",
      "291/291 - 0s - loss: 5.0052e-05 - mse: 5.0052e-05 - val_loss: 3.3289e-05 - val_mse: 3.3289e-05\n",
      "Epoch 96/100\n",
      "291/291 - 0s - loss: 3.6381e-05 - mse: 3.6381e-05 - val_loss: 3.6706e-05 - val_mse: 3.6706e-05\n",
      "Epoch 97/100\n",
      "291/291 - 0s - loss: 3.3081e-05 - mse: 3.3081e-05 - val_loss: 4.4797e-05 - val_mse: 4.4797e-05\n",
      "Epoch 98/100\n",
      "291/291 - 0s - loss: 5.5903e-05 - mse: 5.5903e-05 - val_loss: 8.1642e-05 - val_mse: 8.1642e-05\n",
      "Epoch 99/100\n",
      "291/291 - 0s - loss: 5.2716e-05 - mse: 5.2716e-05 - val_loss: 4.9110e-05 - val_mse: 4.9110e-05\n",
      "Epoch 100/100\n",
      "291/291 - 0s - loss: 4.1937e-05 - mse: 4.1937e-05 - val_loss: 1.7334e-04 - val_mse: 1.7334e-04\n"
     ]
    }
   ],
   "source": [
    "nn.train_model(epochs = 100)"
   ]
  },
  {
   "cell_type": "code",
   "execution_count": 9,
   "id": "collect-replica",
   "metadata": {},
   "outputs": [
    {
     "data": {
      "image/png": "[encoded data removed]",
      "text/plain": [
       "<Figure size 432x288 with 1 Axes>"
      ]
     },
     "metadata": {
      "needs_background": "light"
     },
     "output_type": "display_data"
    }
   ],
   "source": [
    "nn.plot()"
   ]
  },
  {
   "cell_type": "code",
   "execution_count": 10,
   "id": "induced-combine",
   "metadata": {},
   "outputs": [
    {
     "name": "stdout",
     "output_type": "stream",
     "text": [
      "78/78 [==============================] - 0s 416us/step - loss: 1.4650e-04 - mse: 1.4650e-04\n"
     ]
    }
   ],
   "source": [
    "nn.eval(test_data, test_goal)"
   ]
  },
  {
   "cell_type": "code",
   "execution_count": 13,
   "id": "dominican-dryer",
   "metadata": {},
   "outputs": [
    {
     "data": {
      "text/plain": [
       "1.0174339667652883"
      ]
     },
     "execution_count": 13,
     "metadata": {},
     "output_type": "execute_result"
    }
   ],
   "source": [
    "np.sqrt(1.4650e-04) / abs(np.average(test_goal))"
   ]
  }
 ],
 "metadata": {
  "kernelspec": {
   "display_name": "Python 3",
   "language": "python",
   "name": "python3"
  },
  "language_info": {
   "codemirror_mode": {
    "name": "ipython",
    "version": 3
   },
   "file_extension": ".py",
   "mimetype": "text/x-python",
   "name": "python",
   "nbconvert_exporter": "python",
   "pygments_lexer": "ipython3",
   "version": "3.8.6"
  }
 },
 "nbformat": 4,
 "nbformat_minor": 5
}
