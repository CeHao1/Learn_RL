{
 "cells": [
  {
   "cell_type": "code",
   "execution_count": null,
   "id": "overhead-grade",
   "metadata": {},
   "outputs": [],
   "source": [
    "# import sys, os.path\n",
    "# sys.path.insert(0, os.path.join(os.path.dirname(__file__), 'name'))"
   ]
  },
  {
   "cell_type": "code",
   "execution_count": 1,
   "id": "detected-daisy",
   "metadata": {},
   "outputs": [],
   "source": [
    "from src.NN.cartpole_nn import cartpole_nn\n",
    "from src.collector.runner import runner\n",
    "# from src.collector.collect import cartpole_collect\n",
    "import numpy as np\n",
    "import gym\n",
    "import matplotlib.pyplot as plt\n",
    "\n",
    "%matplotlib inline"
   ]
  },
  {
   "cell_type": "code",
   "execution_count": 2,
   "id": "covered-organ",
   "metadata": {
    "scrolled": true
   },
   "outputs": [
    {
     "name": "stderr",
     "output_type": "stream",
     "text": [
      "100%|██████████| 10000/10000 [00:05<00:00, 1890.49it/s]\n",
      "100%|██████████| 1000/1000 [00:00<00:00, 1804.85it/s]\n"
     ]
    }
   ],
   "source": [
    "# # generate training data\n",
    "\n",
    "run = runner()\n",
    "run.run_times(10000)\n",
    "run.save('sv2')\n",
    "\n",
    "run.clear()\n",
    "run.run_times(1000)\n",
    "run.save('sv3')\n"
   ]
  },
  {
   "cell_type": "code",
   "execution_count": null,
   "id": "wireless-threat",
   "metadata": {},
   "outputs": [],
   "source": [
    "# load data\n",
    "# data = np.load(\"cartpole_dataset.npy\", allow_pickle=True)\n",
    "# data = np.load(\"sv2.npy\", allow_pickle=True)\n",
    "\n",
    "# train_data = np.array(data[0]['SAs'])\n",
    "# train_goal = np.array(data[0]['ds'])\n",
    "\n",
    "\n",
    "# data2 = np.load(\"sv3.npy\", allow_pickle=True)\n",
    "# test_data = np.array(data2[0]['SAs'])\n",
    "# test_goal = np.array(data2[0]['ds'])"
   ]
  },
  {
   "cell_type": "code",
   "execution_count": 3,
   "id": "missing-presentation",
   "metadata": {},
   "outputs": [],
   "source": [
    "data = np.load(\"sv2.npy\", allow_pickle=True)\n",
    "data2 = np.load(\"sv3.npy\", allow_pickle=True)\n",
    "\n",
    "tr1 = np.array(data[0]['SAs'])\n",
    "tr2 = np.array(data[0]['params'])\n",
    "train_data = np.empty((tr1.shape[0],tr1.shape[1]+tr2.shape[1]))\n",
    "train_goal = np.array(data[0]['ds'])\n",
    "\n",
    "te1 = np.array(data2[0]['SAs'])\n",
    "te2 = np.array(data2[0]['params'])\n",
    "test_data = np.empty((te1.shape[0],te1.shape[1]+te2.shape[1]))\n",
    "test_goal = np.array(data2[0]['ds'])\n",
    "\n",
    "for i in range(tr1.shape[0]):\n",
    "    train_data[i] = np.hstack((tr1[i],tr2[i]))\n",
    "    \n",
    "for i in range(te1.shape[0]):\n",
    "    test_data[i] = np.hstack((te1[i],te2[i]))\n",
    "    "
   ]
  },
  {
   "cell_type": "code",
   "execution_count": 4,
   "id": "paperback-ensemble",
   "metadata": {},
   "outputs": [],
   "source": [
    "nn = cartpole_nn(train_data, train_goal)"
   ]
  },
  {
   "cell_type": "code",
   "execution_count": 5,
   "id": "humanitarian-business",
   "metadata": {},
   "outputs": [
    {
     "name": "stdout",
     "output_type": "stream",
     "text": [
      "Epoch 1/100\n",
      "2950/2950 - 3s - loss: 1.7560 - mse: 1.7560 - val_loss: 4.4886e-04 - val_mse: 4.4886e-04\n",
      "Epoch 2/100\n",
      "2950/2950 - 2s - loss: 0.0119 - mse: 0.0119 - val_loss: 1.1474e-04 - val_mse: 1.1474e-04\n",
      "Epoch 3/100\n",
      "2950/2950 - 2s - loss: 1.3101 - mse: 1.3101 - val_loss: 0.0022 - val_mse: 0.0022\n",
      "Epoch 4/100\n",
      "2950/2950 - 2s - loss: 8.7286e-04 - mse: 8.7286e-04 - val_loss: 2.2176e-04 - val_mse: 2.2176e-04\n",
      "Epoch 5/100\n",
      "2950/2950 - 2s - loss: 0.0058 - mse: 0.0058 - val_loss: 0.0017 - val_mse: 0.0017\n",
      "Epoch 6/100\n",
      "2950/2950 - 2s - loss: 0.0040 - mse: 0.0040 - val_loss: 0.0447 - val_mse: 0.0447\n",
      "Epoch 7/100\n",
      "2950/2950 - 2s - loss: 0.0047 - mse: 0.0047 - val_loss: 1.2922e-04 - val_mse: 1.2922e-04\n",
      "Epoch 8/100\n",
      "2950/2950 - 2s - loss: 0.0031 - mse: 0.0031 - val_loss: 0.0019 - val_mse: 0.0019\n",
      "Epoch 9/100\n",
      "2950/2950 - 2s - loss: 0.0031 - mse: 0.0031 - val_loss: 0.0021 - val_mse: 0.0021\n",
      "Epoch 10/100\n",
      "2950/2950 - 2s - loss: 0.0027 - mse: 0.0027 - val_loss: 4.9602e-05 - val_mse: 4.9602e-05\n",
      "Epoch 11/100\n",
      "2950/2950 - 2s - loss: 0.0022 - mse: 0.0022 - val_loss: 0.0023 - val_mse: 0.0023\n",
      "Epoch 12/100\n",
      "2950/2950 - 2s - loss: 0.0020 - mse: 0.0020 - val_loss: 5.5442e-04 - val_mse: 5.5442e-04\n",
      "Epoch 13/100\n",
      "2950/2950 - 2s - loss: 0.0024 - mse: 0.0024 - val_loss: 2.9624e-05 - val_mse: 2.9624e-05\n",
      "Epoch 14/100\n",
      "2950/2950 - 2s - loss: 0.0018 - mse: 0.0018 - val_loss: 4.5818e-05 - val_mse: 4.5818e-05\n",
      "Epoch 15/100\n",
      "2950/2950 - 2s - loss: 0.0018 - mse: 0.0018 - val_loss: 4.0130e-04 - val_mse: 4.0130e-04\n",
      "Epoch 16/100\n",
      "2950/2950 - 3s - loss: 0.0024 - mse: 0.0024 - val_loss: 2.3830e-05 - val_mse: 2.3830e-05\n",
      "Epoch 17/100\n",
      "2950/2950 - 3s - loss: 0.0014 - mse: 0.0014 - val_loss: 1.8125e-04 - val_mse: 1.8125e-04\n",
      "Epoch 18/100\n",
      "2950/2950 - 2s - loss: 0.0015 - mse: 0.0015 - val_loss: 5.2116e-04 - val_mse: 5.2116e-04\n",
      "Epoch 19/100\n",
      "2950/2950 - 2s - loss: 0.0017 - mse: 0.0017 - val_loss: 1.0359e-04 - val_mse: 1.0359e-04\n",
      "Epoch 20/100\n",
      "2950/2950 - 2s - loss: 0.0016 - mse: 0.0016 - val_loss: 3.6020e-04 - val_mse: 3.6020e-04\n",
      "Epoch 21/100\n",
      "2950/2950 - 3s - loss: 0.0014 - mse: 0.0014 - val_loss: 6.1314e-05 - val_mse: 6.1314e-05\n",
      "Epoch 22/100\n",
      "2950/2950 - 3s - loss: 0.0014 - mse: 0.0014 - val_loss: 3.3555e-05 - val_mse: 3.3555e-05\n",
      "Epoch 23/100\n",
      "2950/2950 - 3s - loss: 0.0014 - mse: 0.0014 - val_loss: 2.9847e-05 - val_mse: 2.9847e-05\n",
      "Epoch 24/100\n"
     ]
    },
    {
     "ename": "KeyboardInterrupt",
     "evalue": "",
     "output_type": "error",
     "traceback": [
      "\u001b[0;31m---------------------------------------------------------------------------\u001b[0m",
      "\u001b[0;31mKeyboardInterrupt\u001b[0m                         Traceback (most recent call last)",
      "\u001b[0;32m<ipython-input-5-38bf6ca63e87>\u001b[0m in \u001b[0;36m<module>\u001b[0;34m\u001b[0m\n\u001b[0;32m----> 1\u001b[0;31m \u001b[0mnn\u001b[0m\u001b[0;34m.\u001b[0m\u001b[0mtrain_model\u001b[0m\u001b[0;34m(\u001b[0m\u001b[0mepochs\u001b[0m \u001b[0;34m=\u001b[0m \u001b[0;36m100\u001b[0m\u001b[0;34m,\u001b[0m \u001b[0mverbose\u001b[0m \u001b[0;34m=\u001b[0m \u001b[0;36m2\u001b[0m\u001b[0;34m)\u001b[0m\u001b[0;34m\u001b[0m\u001b[0;34m\u001b[0m\u001b[0m\n\u001b[0m",
      "\u001b[0;32m~/work/Learn_RL/try_gym/src/NN/cartpole_nn.py\u001b[0m in \u001b[0;36mtrain_model\u001b[0;34m(self, epochs, batch_size, verbose)\u001b[0m\n\u001b[1;32m     35\u001b[0m \u001b[0;34m\u001b[0m\u001b[0m\n\u001b[1;32m     36\u001b[0m     \u001b[0;32mdef\u001b[0m \u001b[0mtrain_model\u001b[0m\u001b[0;34m(\u001b[0m\u001b[0mself\u001b[0m\u001b[0;34m,\u001b[0m \u001b[0mepochs\u001b[0m \u001b[0;34m=\u001b[0m \u001b[0;36m100\u001b[0m\u001b[0;34m,\u001b[0m \u001b[0mbatch_size\u001b[0m\u001b[0;34m=\u001b[0m\u001b[0;36m64\u001b[0m\u001b[0;34m,\u001b[0m \u001b[0mverbose\u001b[0m \u001b[0;34m=\u001b[0m \u001b[0;36m2\u001b[0m\u001b[0;34m)\u001b[0m\u001b[0;34m:\u001b[0m\u001b[0;34m\u001b[0m\u001b[0;34m\u001b[0m\u001b[0m\n\u001b[0;32m---> 37\u001b[0;31m         self.history = self.model.fit(self.train_data, self.train_goal,\n\u001b[0m\u001b[1;32m     38\u001b[0m         \u001b[0mepochs\u001b[0m \u001b[0;34m=\u001b[0m \u001b[0mepochs\u001b[0m\u001b[0;34m,\u001b[0m \u001b[0mbatch_size\u001b[0m \u001b[0;34m=\u001b[0m \u001b[0mbatch_size\u001b[0m\u001b[0;34m,\u001b[0m\u001b[0;34m\u001b[0m\u001b[0;34m\u001b[0m\u001b[0m\n\u001b[1;32m     39\u001b[0m         verbose = verbose, validation_split = 0.15)\n",
      "\u001b[0;32m/opt/conda/lib/python3.8/site-packages/tensorflow/python/keras/engine/training.py\u001b[0m in \u001b[0;36mfit\u001b[0;34m(self, x, y, batch_size, epochs, verbose, callbacks, validation_split, validation_data, shuffle, class_weight, sample_weight, initial_epoch, steps_per_epoch, validation_steps, validation_batch_size, validation_freq, max_queue_size, workers, use_multiprocessing)\u001b[0m\n\u001b[1;32m   1098\u001b[0m                 _r=1):\n\u001b[1;32m   1099\u001b[0m               \u001b[0mcallbacks\u001b[0m\u001b[0;34m.\u001b[0m\u001b[0mon_train_batch_begin\u001b[0m\u001b[0;34m(\u001b[0m\u001b[0mstep\u001b[0m\u001b[0;34m)\u001b[0m\u001b[0;34m\u001b[0m\u001b[0;34m\u001b[0m\u001b[0m\n\u001b[0;32m-> 1100\u001b[0;31m               \u001b[0mtmp_logs\u001b[0m \u001b[0;34m=\u001b[0m \u001b[0mself\u001b[0m\u001b[0;34m.\u001b[0m\u001b[0mtrain_function\u001b[0m\u001b[0;34m(\u001b[0m\u001b[0miterator\u001b[0m\u001b[0;34m)\u001b[0m\u001b[0;34m\u001b[0m\u001b[0;34m\u001b[0m\u001b[0m\n\u001b[0m\u001b[1;32m   1101\u001b[0m               \u001b[0;32mif\u001b[0m \u001b[0mdata_handler\u001b[0m\u001b[0;34m.\u001b[0m\u001b[0mshould_sync\u001b[0m\u001b[0;34m:\u001b[0m\u001b[0;34m\u001b[0m\u001b[0;34m\u001b[0m\u001b[0m\n\u001b[1;32m   1102\u001b[0m                 \u001b[0mcontext\u001b[0m\u001b[0;34m.\u001b[0m\u001b[0masync_wait\u001b[0m\u001b[0;34m(\u001b[0m\u001b[0;34m)\u001b[0m\u001b[0;34m\u001b[0m\u001b[0;34m\u001b[0m\u001b[0m\n",
      "\u001b[0;32m/opt/conda/lib/python3.8/site-packages/tensorflow/python/eager/def_function.py\u001b[0m in \u001b[0;36m__call__\u001b[0;34m(self, *args, **kwds)\u001b[0m\n\u001b[1;32m    826\u001b[0m     \u001b[0mtracing_count\u001b[0m \u001b[0;34m=\u001b[0m \u001b[0mself\u001b[0m\u001b[0;34m.\u001b[0m\u001b[0mexperimental_get_tracing_count\u001b[0m\u001b[0;34m(\u001b[0m\u001b[0;34m)\u001b[0m\u001b[0;34m\u001b[0m\u001b[0;34m\u001b[0m\u001b[0m\n\u001b[1;32m    827\u001b[0m     \u001b[0;32mwith\u001b[0m \u001b[0mtrace\u001b[0m\u001b[0;34m.\u001b[0m\u001b[0mTrace\u001b[0m\u001b[0;34m(\u001b[0m\u001b[0mself\u001b[0m\u001b[0;34m.\u001b[0m\u001b[0m_name\u001b[0m\u001b[0;34m)\u001b[0m \u001b[0;32mas\u001b[0m \u001b[0mtm\u001b[0m\u001b[0;34m:\u001b[0m\u001b[0;34m\u001b[0m\u001b[0;34m\u001b[0m\u001b[0m\n\u001b[0;32m--> 828\u001b[0;31m       \u001b[0mresult\u001b[0m \u001b[0;34m=\u001b[0m \u001b[0mself\u001b[0m\u001b[0;34m.\u001b[0m\u001b[0m_call\u001b[0m\u001b[0;34m(\u001b[0m\u001b[0;34m*\u001b[0m\u001b[0margs\u001b[0m\u001b[0;34m,\u001b[0m \u001b[0;34m**\u001b[0m\u001b[0mkwds\u001b[0m\u001b[0;34m)\u001b[0m\u001b[0;34m\u001b[0m\u001b[0;34m\u001b[0m\u001b[0m\n\u001b[0m\u001b[1;32m    829\u001b[0m       \u001b[0mcompiler\u001b[0m \u001b[0;34m=\u001b[0m \u001b[0;34m\"xla\"\u001b[0m \u001b[0;32mif\u001b[0m \u001b[0mself\u001b[0m\u001b[0;34m.\u001b[0m\u001b[0m_experimental_compile\u001b[0m \u001b[0;32melse\u001b[0m \u001b[0;34m\"nonXla\"\u001b[0m\u001b[0;34m\u001b[0m\u001b[0;34m\u001b[0m\u001b[0m\n\u001b[1;32m    830\u001b[0m       \u001b[0mnew_tracing_count\u001b[0m \u001b[0;34m=\u001b[0m \u001b[0mself\u001b[0m\u001b[0;34m.\u001b[0m\u001b[0mexperimental_get_tracing_count\u001b[0m\u001b[0;34m(\u001b[0m\u001b[0;34m)\u001b[0m\u001b[0;34m\u001b[0m\u001b[0;34m\u001b[0m\u001b[0m\n",
      "\u001b[0;32m/opt/conda/lib/python3.8/site-packages/tensorflow/python/eager/def_function.py\u001b[0m in \u001b[0;36m_call\u001b[0;34m(self, *args, **kwds)\u001b[0m\n\u001b[1;32m    853\u001b[0m       \u001b[0;31m# In this case we have created variables on the first call, so we run the\u001b[0m\u001b[0;34m\u001b[0m\u001b[0;34m\u001b[0m\u001b[0;34m\u001b[0m\u001b[0m\n\u001b[1;32m    854\u001b[0m       \u001b[0;31m# defunned version which is guaranteed to never create variables.\u001b[0m\u001b[0;34m\u001b[0m\u001b[0;34m\u001b[0m\u001b[0;34m\u001b[0m\u001b[0m\n\u001b[0;32m--> 855\u001b[0;31m       \u001b[0;32mreturn\u001b[0m \u001b[0mself\u001b[0m\u001b[0;34m.\u001b[0m\u001b[0m_stateless_fn\u001b[0m\u001b[0;34m(\u001b[0m\u001b[0;34m*\u001b[0m\u001b[0margs\u001b[0m\u001b[0;34m,\u001b[0m \u001b[0;34m**\u001b[0m\u001b[0mkwds\u001b[0m\u001b[0;34m)\u001b[0m  \u001b[0;31m# pylint: disable=not-callable\u001b[0m\u001b[0;34m\u001b[0m\u001b[0;34m\u001b[0m\u001b[0m\n\u001b[0m\u001b[1;32m    856\u001b[0m     \u001b[0;32melif\u001b[0m \u001b[0mself\u001b[0m\u001b[0;34m.\u001b[0m\u001b[0m_stateful_fn\u001b[0m \u001b[0;32mis\u001b[0m \u001b[0;32mnot\u001b[0m \u001b[0;32mNone\u001b[0m\u001b[0;34m:\u001b[0m\u001b[0;34m\u001b[0m\u001b[0;34m\u001b[0m\u001b[0m\n\u001b[1;32m    857\u001b[0m       \u001b[0;31m# Release the lock early so that multiple threads can perform the call\u001b[0m\u001b[0;34m\u001b[0m\u001b[0;34m\u001b[0m\u001b[0;34m\u001b[0m\u001b[0m\n",
      "\u001b[0;32m/opt/conda/lib/python3.8/site-packages/tensorflow/python/eager/function.py\u001b[0m in \u001b[0;36m__call__\u001b[0;34m(self, *args, **kwargs)\u001b[0m\n\u001b[1;32m   2940\u001b[0m       (graph_function,\n\u001b[1;32m   2941\u001b[0m        filtered_flat_args) = self._maybe_define_function(args, kwargs)\n\u001b[0;32m-> 2942\u001b[0;31m     return graph_function._call_flat(\n\u001b[0m\u001b[1;32m   2943\u001b[0m         filtered_flat_args, captured_inputs=graph_function.captured_inputs)  # pylint: disable=protected-access\n\u001b[1;32m   2944\u001b[0m \u001b[0;34m\u001b[0m\u001b[0m\n",
      "\u001b[0;32m/opt/conda/lib/python3.8/site-packages/tensorflow/python/eager/function.py\u001b[0m in \u001b[0;36m_call_flat\u001b[0;34m(self, args, captured_inputs, cancellation_manager)\u001b[0m\n\u001b[1;32m   1916\u001b[0m         and executing_eagerly):\n\u001b[1;32m   1917\u001b[0m       \u001b[0;31m# No tape is watching; skip to running the function.\u001b[0m\u001b[0;34m\u001b[0m\u001b[0;34m\u001b[0m\u001b[0;34m\u001b[0m\u001b[0m\n\u001b[0;32m-> 1918\u001b[0;31m       return self._build_call_outputs(self._inference_function.call(\n\u001b[0m\u001b[1;32m   1919\u001b[0m           ctx, args, cancellation_manager=cancellation_manager))\n\u001b[1;32m   1920\u001b[0m     forward_backward = self._select_forward_and_backward_functions(\n",
      "\u001b[0;32m/opt/conda/lib/python3.8/site-packages/tensorflow/python/eager/function.py\u001b[0m in \u001b[0;36mcall\u001b[0;34m(self, ctx, args, cancellation_manager)\u001b[0m\n\u001b[1;32m    554\u001b[0m         \u001b[0;32mif\u001b[0m \u001b[0mcancellation_manager\u001b[0m \u001b[0;32mis\u001b[0m \u001b[0;32mNone\u001b[0m\u001b[0;34m:\u001b[0m\u001b[0;34m\u001b[0m\u001b[0;34m\u001b[0m\u001b[0m\n\u001b[1;32m    555\u001b[0m           outputs = execute.execute(\n\u001b[0;32m--> 556\u001b[0;31m               \u001b[0mstr\u001b[0m\u001b[0;34m(\u001b[0m\u001b[0mself\u001b[0m\u001b[0;34m.\u001b[0m\u001b[0msignature\u001b[0m\u001b[0;34m.\u001b[0m\u001b[0mname\u001b[0m\u001b[0;34m)\u001b[0m\u001b[0;34m,\u001b[0m\u001b[0;34m\u001b[0m\u001b[0;34m\u001b[0m\u001b[0m\n\u001b[0m\u001b[1;32m    557\u001b[0m               \u001b[0mnum_outputs\u001b[0m\u001b[0;34m=\u001b[0m\u001b[0mself\u001b[0m\u001b[0;34m.\u001b[0m\u001b[0m_num_outputs\u001b[0m\u001b[0;34m,\u001b[0m\u001b[0;34m\u001b[0m\u001b[0;34m\u001b[0m\u001b[0m\n\u001b[1;32m    558\u001b[0m               \u001b[0minputs\u001b[0m\u001b[0;34m=\u001b[0m\u001b[0margs\u001b[0m\u001b[0;34m,\u001b[0m\u001b[0;34m\u001b[0m\u001b[0;34m\u001b[0m\u001b[0m\n",
      "\u001b[0;31mKeyboardInterrupt\u001b[0m: "
     ]
    }
   ],
   "source": [
    "nn.train_model(epochs = 100, verbose = 2)"
   ]
  },
  {
   "cell_type": "code",
   "execution_count": null,
   "id": "biological-coffee",
   "metadata": {
    "scrolled": true
   },
   "outputs": [],
   "source": [
    "nn.plot()"
   ]
  },
  {
   "cell_type": "code",
   "execution_count": null,
   "id": "metropolitan-society",
   "metadata": {},
   "outputs": [],
   "source": [
    "nn.eval(test_data, test_goal)"
   ]
  },
  {
   "cell_type": "markdown",
   "id": "horizontal-conference",
   "metadata": {},
   "source": [
    "### Change parameters"
   ]
  },
  {
   "cell_type": "code",
   "execution_count": null,
   "id": "dried-karma",
   "metadata": {},
   "outputs": [],
   "source": [
    "run = runner()\n",
    "run.env.change_params(masscart = 1.05)\n",
    "run.run_times(100)\n",
    "run.save('sv4')"
   ]
  },
  {
   "cell_type": "code",
   "execution_count": null,
   "id": "personalized-student",
   "metadata": {},
   "outputs": [],
   "source": [
    "data4 = np.load(\"sv4.npy\", allow_pickle=True)\n",
    "\n",
    "changed_data = np.array(data4[0]['SAs'])\n",
    "changed_goal = np.array(data4[0]['dx'])\n",
    "\n",
    "nn.eval(changed_data, changed_goal)"
   ]
  }
 ],
 "metadata": {
  "kernelspec": {
   "display_name": "Python 3",
   "language": "python",
   "name": "python3"
  },
  "language_info": {
   "codemirror_mode": {
    "name": "ipython",
    "version": 3
   },
   "file_extension": ".py",
   "mimetype": "text/x-python",
   "name": "python",
   "nbconvert_exporter": "python",
   "pygments_lexer": "ipython3",
   "version": "3.8.6"
  }
 },
 "nbformat": 4,
 "nbformat_minor": 5
}
