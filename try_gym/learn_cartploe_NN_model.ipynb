{
 "cells": [
  {
   "cell_type": "code",
   "execution_count": 1,
   "id": "overhead-grade",
   "metadata": {},
   "outputs": [],
   "source": [
    "# import sys, os.path\n",
    "# sys.path.insert(0, os.path.join(os.path.dirname(__file__), 'name'))"
   ]
  },
  {
   "cell_type": "code",
   "execution_count": 2,
   "id": "detected-daisy",
   "metadata": {},
   "outputs": [],
   "source": [
    "from src.NN.cartpole_nn import cartpole_nn\n",
    "from src.collector.runner import runner\n",
    "from src.collector.collect import cartpole_collect\n",
    "import numpy as np\n",
    "import gym\n",
    "import matplotlib.pyplot as plt\n",
    "\n",
    "%matplotlib inline"
   ]
  },
  {
   "cell_type": "code",
   "execution_count": 3,
   "id": "covered-organ",
   "metadata": {
    "scrolled": true
   },
   "outputs": [],
   "source": [
    "# # generate training data\n",
    "\n",
    "# run = runner()\n",
    "# run.run_times(1000)\n",
    "# run.save('sv2')\n",
    "\n",
    "# run.clear()\n",
    "# run.run_times(100)\n",
    "# run.save('sv3')\n"
   ]
  },
  {
   "cell_type": "code",
   "execution_count": 4,
   "id": "wireless-threat",
   "metadata": {},
   "outputs": [],
   "source": [
    "# load data\n",
    "# data = np.load(\"cartpole_dataset.npy\", allow_pickle=True)\n",
    "data = np.load(\"sv2.npy\", allow_pickle=True)\n",
    "\n",
    "train_data = np.array(data[0]['SAs'])\n",
    "train_goal = np.array(data[0]['dx'])\n",
    "\n",
    "\n",
    "data2 = np.load(\"sv3.npy\", allow_pickle=True)\n",
    "test_data = np.array(data2[0]['SAs'])\n",
    "test_goal = np.array(data2[0]['dx'])"
   ]
  },
  {
   "cell_type": "code",
   "execution_count": 5,
   "id": "paperback-ensemble",
   "metadata": {},
   "outputs": [],
   "source": [
    "nn = cartpole_nn(train_data, train_goal)"
   ]
  },
  {
   "cell_type": "code",
   "execution_count": 6,
   "id": "humanitarian-business",
   "metadata": {},
   "outputs": [
    {
     "name": "stdout",
     "output_type": "stream",
     "text": [
      "Epoch 1/20\n",
      "296/296 - 1s - loss: 21.2905 - mse: 21.2905 - val_loss: 0.5990 - val_mse: 0.5990\n",
      "Epoch 2/20\n",
      "296/296 - 0s - loss: 0.4175 - mse: 0.4175 - val_loss: 0.4090 - val_mse: 0.4090\n",
      "Epoch 3/20\n",
      "296/296 - 0s - loss: 0.2807 - mse: 0.2807 - val_loss: 0.2757 - val_mse: 0.2757\n",
      "Epoch 4/20\n",
      "296/296 - 0s - loss: 0.1674 - mse: 0.1674 - val_loss: 0.1346 - val_mse: 0.1346\n",
      "Epoch 5/20\n",
      "296/296 - 0s - loss: 0.0731 - mse: 0.0731 - val_loss: 0.0562 - val_mse: 0.0562\n",
      "Epoch 6/20\n",
      "296/296 - 0s - loss: 0.0367 - mse: 0.0367 - val_loss: 0.0348 - val_mse: 0.0348\n",
      "Epoch 7/20\n",
      "296/296 - 0s - loss: 0.0268 - mse: 0.0268 - val_loss: 0.0275 - val_mse: 0.0275\n",
      "Epoch 8/20\n",
      "296/296 - 0s - loss: 0.0215 - mse: 0.0215 - val_loss: 0.0225 - val_mse: 0.0225\n",
      "Epoch 9/20\n",
      "296/296 - 0s - loss: 0.0175 - mse: 0.0175 - val_loss: 0.0177 - val_mse: 0.0177\n",
      "Epoch 10/20\n",
      "296/296 - 0s - loss: 0.0139 - mse: 0.0139 - val_loss: 0.0142 - val_mse: 0.0142\n",
      "Epoch 11/20\n",
      "296/296 - 0s - loss: 0.0106 - mse: 0.0106 - val_loss: 0.0104 - val_mse: 0.0104\n",
      "Epoch 12/20\n",
      "296/296 - 0s - loss: 0.0076 - mse: 0.0076 - val_loss: 0.0074 - val_mse: 0.0074\n",
      "Epoch 13/20\n",
      "296/296 - 0s - loss: 0.0053 - mse: 0.0053 - val_loss: 0.0052 - val_mse: 0.0052\n",
      "Epoch 14/20\n",
      "296/296 - 0s - loss: 0.0035 - mse: 0.0035 - val_loss: 0.0037 - val_mse: 0.0037\n",
      "Epoch 15/20\n",
      "296/296 - 0s - loss: 0.0022 - mse: 0.0022 - val_loss: 0.0030 - val_mse: 0.0030\n",
      "Epoch 16/20\n",
      "296/296 - 0s - loss: 0.0014 - mse: 0.0014 - val_loss: 0.0016 - val_mse: 0.0016\n",
      "Epoch 17/20\n",
      "296/296 - 0s - loss: 9.5380e-04 - mse: 9.5380e-04 - val_loss: 0.0011 - val_mse: 0.0011\n",
      "Epoch 18/20\n",
      "296/296 - 0s - loss: 7.0873e-04 - mse: 7.0873e-04 - val_loss: 9.2089e-04 - val_mse: 9.2089e-04\n",
      "Epoch 19/20\n",
      "296/296 - 0s - loss: 5.9500e-04 - mse: 5.9500e-04 - val_loss: 9.2513e-04 - val_mse: 9.2513e-04\n",
      "Epoch 20/20\n",
      "296/296 - 0s - loss: 5.1562e-04 - mse: 5.1562e-04 - val_loss: 7.6198e-04 - val_mse: 7.6198e-04\n"
     ]
    }
   ],
   "source": [
    "nn.train_model(epochs = 20)"
   ]
  },
  {
   "cell_type": "code",
   "execution_count": 7,
   "id": "biological-coffee",
   "metadata": {
    "scrolled": true
   },
   "outputs": [
    {
     "data": {
      "image/png": "[encoded data removed]",
      "text/plain": [
       "<Figure size 432x288 with 1 Axes>"
      ]
     },
     "metadata": {
      "needs_background": "light"
     },
     "output_type": "display_data"
    }
   ],
   "source": [
    "nn.plot()"
   ]
  },
  {
   "cell_type": "code",
   "execution_count": 8,
   "id": "metropolitan-society",
   "metadata": {},
   "outputs": [
    {
     "name": "stdout",
     "output_type": "stream",
     "text": [
      "61/61 [==============================] - 0s 330us/step - loss: 4.7330e-04 - mse: 4.7330e-04\n",
      "Error:  0.17888005730541376  %\n"
     ]
    }
   ],
   "source": [
    "nn.eval(test_data, test_goal)"
   ]
  },
  {
   "cell_type": "markdown",
   "id": "horizontal-conference",
   "metadata": {},
   "source": [
    "### Change parameters"
   ]
  },
  {
   "cell_type": "code",
   "execution_count": 9,
   "id": "dried-karma",
   "metadata": {},
   "outputs": [],
   "source": [
    "# run = runner()\n",
    "# run.env.change_params(masscart = 1.05)\n",
    "# run.run_times(100)\n",
    "# run.save('sv4')"
   ]
  },
  {
   "cell_type": "code",
   "execution_count": 10,
   "id": "personalized-student",
   "metadata": {},
   "outputs": [
    {
     "name": "stdout",
     "output_type": "stream",
     "text": [
      "79/79 [==============================] - 0s 330us/step - loss: 0.3304 - mse: 0.3304\n",
      "Error:  4.951648281977476  %\n"
     ]
    }
   ],
   "source": [
    "data4 = np.load(\"sv4.npy\", allow_pickle=True)\n",
    "\n",
    "changed_data = np.array(data4[0]['SAs'])\n",
    "changed_goal = np.array(data4[0]['dx'])\n",
    "\n",
    "nn.eval(changed_data, changed_goal)"
   ]
  }
 ],
 "metadata": {
  "kernelspec": {
   "display_name": "Python 3",
   "language": "python",
   "name": "python3"
  },
  "language_info": {
   "codemirror_mode": {
    "name": "ipython",
    "version": 3
   },
   "file_extension": ".py",
   "mimetype": "text/x-python",
   "name": "python",
   "nbconvert_exporter": "python",
   "pygments_lexer": "ipython3",
   "version": "3.8.6"
  }
 },
 "nbformat": 4,
 "nbformat_minor": 5
}
