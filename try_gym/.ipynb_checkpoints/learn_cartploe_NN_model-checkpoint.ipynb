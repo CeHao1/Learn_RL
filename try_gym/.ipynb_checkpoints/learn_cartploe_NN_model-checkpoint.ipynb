{
 "cells": [
  {
   "cell_type": "code",
   "execution_count": 1,
   "id": "overhead-grade",
   "metadata": {},
   "outputs": [],
   "source": [
    "# import sys, os.path\n",
    "# sys.path.insert(0, os.path.join(os.path.dirname(__file__), 'name'))"
   ]
  },
  {
   "cell_type": "code",
   "execution_count": 2,
   "id": "detected-daisy",
   "metadata": {},
   "outputs": [],
   "source": [
    "from src.NN.cartpole_nn import cartpole_nn\n",
    "from src.collector.runner import runner\n",
    "from src.collector.collect import cartpole_collect\n",
    "import numpy as np\n",
    "import gym\n",
    "import matplotlib.pyplot as plt\n",
    "\n",
    "%matplotlib inline"
   ]
  },
  {
   "cell_type": "code",
   "execution_count": 3,
   "id": "covered-organ",
   "metadata": {
    "scrolled": true
   },
   "outputs": [],
   "source": [
    "# # generate training data\n",
    "\n",
    "# run = runner()\n",
    "# run.run_times(1000)\n",
    "# run.save('sv2')\n",
    "\n",
    "# run.clear()\n",
    "# run.run_times(100)\n",
    "# run.save('sv3')\n"
   ]
  },
  {
   "cell_type": "code",
   "execution_count": 4,
   "id": "corresponding-giant",
   "metadata": {},
   "outputs": [],
   "source": [
    "# load data\n",
    "# data = np.load(\"cartpole_dataset.npy\", allow_pickle=True)\n",
    "data = np.load(\"sv2.npy\", allow_pickle=True)\n",
    "\n",
    "train_data = np.array(data[0]['SAs'])\n",
    "train_goal = np.array(data[0]['dx'])\n",
    "\n",
    "\n",
    "data2 = np.load(\"sv3.npy\", allow_pickle=True)\n",
    "test_data = np.array(data2[0]['SAs'])\n",
    "test_goal = np.array(data2[0]['dx'])"
   ]
  },
  {
   "cell_type": "code",
   "execution_count": 5,
   "id": "loaded-receipt",
   "metadata": {},
   "outputs": [],
   "source": [
    "nn = cartpole_nn(train_data, train_goal)"
   ]
  },
  {
   "cell_type": "code",
   "execution_count": 6,
   "id": "amino-passport",
   "metadata": {},
   "outputs": [
    {
     "name": "stdout",
     "output_type": "stream",
     "text": [
      "Epoch 1/100\n",
      "296/296 - 1s - loss: 73.4180 - mse: 73.4180 - val_loss: 12.2126 - val_mse: 12.2126\n",
      "Epoch 2/100\n",
      "296/296 - 0s - loss: 2.8669 - mse: 2.8669 - val_loss: 0.7923 - val_mse: 0.7923\n",
      "Epoch 3/100\n",
      "296/296 - 0s - loss: 0.6518 - mse: 0.6518 - val_loss: 0.6973 - val_mse: 0.6973\n",
      "Epoch 4/100\n",
      "296/296 - 0s - loss: 0.5827 - mse: 0.5827 - val_loss: 0.6278 - val_mse: 0.6278\n",
      "Epoch 5/100\n",
      "296/296 - 0s - loss: 0.5265 - mse: 0.5265 - val_loss: 0.5671 - val_mse: 0.5671\n",
      "Epoch 6/100\n",
      "296/296 - 0s - loss: 0.4772 - mse: 0.4772 - val_loss: 0.5172 - val_mse: 0.5172\n",
      "Epoch 7/100\n",
      "296/296 - 0s - loss: 0.4356 - mse: 0.4356 - val_loss: 0.4701 - val_mse: 0.4701\n",
      "Epoch 8/100\n",
      "296/296 - 0s - loss: 0.4008 - mse: 0.4008 - val_loss: 0.4302 - val_mse: 0.4302\n",
      "Epoch 9/100\n",
      "296/296 - 0s - loss: 0.3728 - mse: 0.3728 - val_loss: 0.4021 - val_mse: 0.4021\n",
      "Epoch 10/100\n",
      "296/296 - 0s - loss: 0.3508 - mse: 0.3508 - val_loss: 0.3777 - val_mse: 0.3777\n",
      "Epoch 11/100\n",
      "296/296 - 0s - loss: 0.3339 - mse: 0.3339 - val_loss: 0.3595 - val_mse: 0.3595\n",
      "Epoch 12/100\n",
      "296/296 - 0s - loss: 0.3215 - mse: 0.3215 - val_loss: 0.3478 - val_mse: 0.3478\n",
      "Epoch 13/100\n",
      "296/296 - 0s - loss: 0.3121 - mse: 0.3121 - val_loss: 0.3354 - val_mse: 0.3354\n",
      "Epoch 14/100\n",
      "296/296 - 0s - loss: 0.3057 - mse: 0.3057 - val_loss: 0.3288 - val_mse: 0.3288\n",
      "Epoch 15/100\n",
      "296/296 - 0s - loss: 0.3006 - mse: 0.3006 - val_loss: 0.3255 - val_mse: 0.3255\n",
      "Epoch 16/100\n",
      "296/296 - 0s - loss: 0.2968 - mse: 0.2968 - val_loss: 0.3193 - val_mse: 0.3193\n",
      "Epoch 17/100\n",
      "296/296 - 0s - loss: 0.2934 - mse: 0.2934 - val_loss: 0.3186 - val_mse: 0.3186\n",
      "Epoch 18/100\n",
      "296/296 - 0s - loss: 0.2904 - mse: 0.2904 - val_loss: 0.3125 - val_mse: 0.3125\n",
      "Epoch 19/100\n",
      "296/296 - 0s - loss: 0.2872 - mse: 0.2872 - val_loss: 0.3075 - val_mse: 0.3075\n",
      "Epoch 20/100\n",
      "296/296 - 0s - loss: 0.2842 - mse: 0.2842 - val_loss: 0.3048 - val_mse: 0.3048\n",
      "Epoch 21/100\n",
      "296/296 - 0s - loss: 0.2802 - mse: 0.2802 - val_loss: 0.2993 - val_mse: 0.2993\n",
      "Epoch 22/100\n",
      "296/296 - 0s - loss: 0.2769 - mse: 0.2769 - val_loss: 0.3008 - val_mse: 0.3008\n",
      "Epoch 23/100\n",
      "296/296 - 0s - loss: 0.2730 - mse: 0.2730 - val_loss: 0.2915 - val_mse: 0.2915\n",
      "Epoch 24/100\n",
      "296/296 - 0s - loss: 0.2687 - mse: 0.2687 - val_loss: 0.2914 - val_mse: 0.2914\n",
      "Epoch 25/100\n",
      "296/296 - 0s - loss: 0.2644 - mse: 0.2644 - val_loss: 0.2816 - val_mse: 0.2816\n",
      "Epoch 26/100\n",
      "296/296 - 0s - loss: 0.2598 - mse: 0.2598 - val_loss: 0.2795 - val_mse: 0.2795\n",
      "Epoch 27/100\n",
      "296/296 - 0s - loss: 0.2547 - mse: 0.2547 - val_loss: 0.2747 - val_mse: 0.2747\n",
      "Epoch 28/100\n",
      "296/296 - 0s - loss: 0.2500 - mse: 0.2500 - val_loss: 0.2673 - val_mse: 0.2673\n",
      "Epoch 29/100\n",
      "296/296 - 0s - loss: 0.2444 - mse: 0.2444 - val_loss: 0.2582 - val_mse: 0.2582\n",
      "Epoch 30/100\n",
      "296/296 - 0s - loss: 0.2387 - mse: 0.2387 - val_loss: 0.2575 - val_mse: 0.2575\n",
      "Epoch 31/100\n",
      "296/296 - 0s - loss: 0.2333 - mse: 0.2333 - val_loss: 0.2508 - val_mse: 0.2508\n",
      "Epoch 32/100\n",
      "296/296 - 0s - loss: 0.2272 - mse: 0.2272 - val_loss: 0.2473 - val_mse: 0.2473\n",
      "Epoch 33/100\n",
      "296/296 - 0s - loss: 0.2212 - mse: 0.2212 - val_loss: 0.2331 - val_mse: 0.2331\n",
      "Epoch 34/100\n",
      "296/296 - 0s - loss: 0.2149 - mse: 0.2149 - val_loss: 0.2294 - val_mse: 0.2294\n",
      "Epoch 35/100\n",
      "296/296 - 0s - loss: 0.2088 - mse: 0.2088 - val_loss: 0.2226 - val_mse: 0.2226\n",
      "Epoch 36/100\n",
      "296/296 - 0s - loss: 0.2022 - mse: 0.2022 - val_loss: 0.2184 - val_mse: 0.2184\n",
      "Epoch 37/100\n",
      "296/296 - 0s - loss: 0.1960 - mse: 0.1960 - val_loss: 0.2082 - val_mse: 0.2082\n",
      "Epoch 38/100\n",
      "296/296 - 0s - loss: 0.1893 - mse: 0.1893 - val_loss: 0.2016 - val_mse: 0.2016\n",
      "Epoch 39/100\n",
      "296/296 - 0s - loss: 0.1832 - mse: 0.1832 - val_loss: 0.1967 - val_mse: 0.1967\n",
      "Epoch 40/100\n",
      "296/296 - 0s - loss: 0.1768 - mse: 0.1768 - val_loss: 0.1882 - val_mse: 0.1882\n",
      "Epoch 41/100\n",
      "296/296 - 0s - loss: 0.1705 - mse: 0.1705 - val_loss: 0.1845 - val_mse: 0.1845\n",
      "Epoch 42/100\n",
      "296/296 - 0s - loss: 0.1646 - mse: 0.1646 - val_loss: 0.1774 - val_mse: 0.1774\n",
      "Epoch 43/100\n",
      "296/296 - 0s - loss: 0.1589 - mse: 0.1589 - val_loss: 0.1695 - val_mse: 0.1695\n",
      "Epoch 44/100\n",
      "296/296 - 0s - loss: 0.1528 - mse: 0.1528 - val_loss: 0.1698 - val_mse: 0.1698\n",
      "Epoch 45/100\n",
      "296/296 - 0s - loss: 0.1477 - mse: 0.1477 - val_loss: 0.1602 - val_mse: 0.1602\n",
      "Epoch 46/100\n",
      "296/296 - 0s - loss: 0.1428 - mse: 0.1428 - val_loss: 0.1529 - val_mse: 0.1529\n",
      "Epoch 47/100\n",
      "296/296 - 0s - loss: 0.1379 - mse: 0.1379 - val_loss: 0.1532 - val_mse: 0.1532\n",
      "Epoch 48/100\n",
      "296/296 - 0s - loss: 0.1336 - mse: 0.1336 - val_loss: 0.1437 - val_mse: 0.1437\n",
      "Epoch 49/100\n",
      "296/296 - 0s - loss: 0.1292 - mse: 0.1292 - val_loss: 0.1412 - val_mse: 0.1412\n",
      "Epoch 50/100\n",
      "296/296 - 0s - loss: 0.1255 - mse: 0.1255 - val_loss: 0.1349 - val_mse: 0.1349\n",
      "Epoch 51/100\n",
      "296/296 - 0s - loss: 0.1218 - mse: 0.1218 - val_loss: 0.1308 - val_mse: 0.1308\n",
      "Epoch 52/100\n",
      "296/296 - 0s - loss: 0.1182 - mse: 0.1182 - val_loss: 0.1275 - val_mse: 0.1275\n",
      "Epoch 53/100\n",
      "296/296 - 0s - loss: 0.1152 - mse: 0.1152 - val_loss: 0.1245 - val_mse: 0.1245\n",
      "Epoch 54/100\n",
      "296/296 - 0s - loss: 0.1121 - mse: 0.1121 - val_loss: 0.1238 - val_mse: 0.1238\n",
      "Epoch 55/100\n",
      "296/296 - 0s - loss: 0.1092 - mse: 0.1092 - val_loss: 0.1172 - val_mse: 0.1172\n",
      "Epoch 56/100\n",
      "296/296 - 0s - loss: 0.1064 - mse: 0.1064 - val_loss: 0.1147 - val_mse: 0.1147\n",
      "Epoch 57/100\n",
      "296/296 - 0s - loss: 0.1037 - mse: 0.1037 - val_loss: 0.1128 - val_mse: 0.1128\n",
      "Epoch 58/100\n",
      "296/296 - 0s - loss: 0.1014 - mse: 0.1014 - val_loss: 0.1093 - val_mse: 0.1093\n",
      "Epoch 59/100\n",
      "296/296 - 0s - loss: 0.0987 - mse: 0.0987 - val_loss: 0.1066 - val_mse: 0.1066\n",
      "Epoch 60/100\n",
      "296/296 - 0s - loss: 0.0961 - mse: 0.0961 - val_loss: 0.1032 - val_mse: 0.1032\n",
      "Epoch 61/100\n",
      "296/296 - 0s - loss: 0.0937 - mse: 0.0937 - val_loss: 0.1009 - val_mse: 0.1009\n",
      "Epoch 62/100\n",
      "296/296 - 0s - loss: 0.0915 - mse: 0.0915 - val_loss: 0.0996 - val_mse: 0.0996\n",
      "Epoch 63/100\n",
      "296/296 - 0s - loss: 0.0890 - mse: 0.0890 - val_loss: 0.0993 - val_mse: 0.0993\n",
      "Epoch 64/100\n",
      "296/296 - 0s - loss: 0.0867 - mse: 0.0867 - val_loss: 0.0934 - val_mse: 0.0934\n",
      "Epoch 65/100\n",
      "296/296 - 0s - loss: 0.0844 - mse: 0.0844 - val_loss: 0.0929 - val_mse: 0.0929\n",
      "Epoch 66/100\n",
      "296/296 - 0s - loss: 0.0819 - mse: 0.0819 - val_loss: 0.0902 - val_mse: 0.0902\n",
      "Epoch 67/100\n",
      "296/296 - 0s - loss: 0.0799 - mse: 0.0799 - val_loss: 0.0859 - val_mse: 0.0859\n",
      "Epoch 68/100\n",
      "296/296 - 0s - loss: 0.0777 - mse: 0.0777 - val_loss: 0.0835 - val_mse: 0.0835\n",
      "Epoch 69/100\n",
      "296/296 - 0s - loss: 0.0755 - mse: 0.0755 - val_loss: 0.0812 - val_mse: 0.0812\n",
      "Epoch 70/100\n",
      "296/296 - 0s - loss: 0.0733 - mse: 0.0733 - val_loss: 0.0791 - val_mse: 0.0791\n",
      "Epoch 71/100\n",
      "296/296 - 0s - loss: 0.0711 - mse: 0.0711 - val_loss: 0.0767 - val_mse: 0.0767\n",
      "Epoch 72/100\n",
      "296/296 - 0s - loss: 0.0691 - mse: 0.0691 - val_loss: 0.0749 - val_mse: 0.0749\n",
      "Epoch 73/100\n",
      "296/296 - 0s - loss: 0.0671 - mse: 0.0671 - val_loss: 0.0715 - val_mse: 0.0715\n",
      "Epoch 74/100\n",
      "296/296 - 0s - loss: 0.0653 - mse: 0.0653 - val_loss: 0.0714 - val_mse: 0.0714\n",
      "Epoch 75/100\n",
      "296/296 - 0s - loss: 0.0633 - mse: 0.0633 - val_loss: 0.0673 - val_mse: 0.0673\n",
      "Epoch 76/100\n",
      "296/296 - 0s - loss: 0.0614 - mse: 0.0614 - val_loss: 0.0667 - val_mse: 0.0667\n",
      "Epoch 77/100\n",
      "296/296 - 0s - loss: 0.0595 - mse: 0.0595 - val_loss: 0.0642 - val_mse: 0.0642\n",
      "Epoch 78/100\n",
      "296/296 - 0s - loss: 0.0577 - mse: 0.0577 - val_loss: 0.0614 - val_mse: 0.0614\n",
      "Epoch 79/100\n",
      "296/296 - 0s - loss: 0.0558 - mse: 0.0558 - val_loss: 0.0604 - val_mse: 0.0604\n",
      "Epoch 80/100\n",
      "296/296 - 0s - loss: 0.0540 - mse: 0.0540 - val_loss: 0.0579 - val_mse: 0.0579\n",
      "Epoch 81/100\n",
      "296/296 - 0s - loss: 0.0524 - mse: 0.0524 - val_loss: 0.0557 - val_mse: 0.0557\n",
      "Epoch 82/100\n",
      "296/296 - 0s - loss: 0.0507 - mse: 0.0507 - val_loss: 0.0541 - val_mse: 0.0541\n",
      "Epoch 83/100\n",
      "296/296 - 0s - loss: 0.0491 - mse: 0.0491 - val_loss: 0.0534 - val_mse: 0.0534\n",
      "Epoch 84/100\n",
      "296/296 - 0s - loss: 0.0473 - mse: 0.0473 - val_loss: 0.0508 - val_mse: 0.0508\n",
      "Epoch 85/100\n",
      "296/296 - 0s - loss: 0.0458 - mse: 0.0458 - val_loss: 0.0495 - val_mse: 0.0495\n",
      "Epoch 86/100\n",
      "296/296 - 0s - loss: 0.0442 - mse: 0.0442 - val_loss: 0.0470 - val_mse: 0.0470\n",
      "Epoch 87/100\n",
      "296/296 - 0s - loss: 0.0428 - mse: 0.0428 - val_loss: 0.0456 - val_mse: 0.0456\n",
      "Epoch 88/100\n",
      "296/296 - 0s - loss: 0.0413 - mse: 0.0413 - val_loss: 0.0437 - val_mse: 0.0437\n",
      "Epoch 89/100\n",
      "296/296 - 0s - loss: 0.0399 - mse: 0.0399 - val_loss: 0.0434 - val_mse: 0.0434\n",
      "Epoch 90/100\n"
     ]
    },
    {
     "name": "stdout",
     "output_type": "stream",
     "text": [
      "296/296 - 0s - loss: 0.0387 - mse: 0.0387 - val_loss: 0.0416 - val_mse: 0.0416\n",
      "Epoch 91/100\n",
      "296/296 - 0s - loss: 0.0373 - mse: 0.0373 - val_loss: 0.0402 - val_mse: 0.0402\n",
      "Epoch 92/100\n",
      "296/296 - 0s - loss: 0.0359 - mse: 0.0359 - val_loss: 0.0395 - val_mse: 0.0395\n",
      "Epoch 93/100\n",
      "296/296 - 0s - loss: 0.0347 - mse: 0.0347 - val_loss: 0.0369 - val_mse: 0.0369\n",
      "Epoch 94/100\n",
      "296/296 - 0s - loss: 0.0334 - mse: 0.0334 - val_loss: 0.0360 - val_mse: 0.0360\n",
      "Epoch 95/100\n",
      "296/296 - 0s - loss: 0.0322 - mse: 0.0322 - val_loss: 0.0342 - val_mse: 0.0342\n",
      "Epoch 96/100\n",
      "296/296 - 0s - loss: 0.0311 - mse: 0.0311 - val_loss: 0.0329 - val_mse: 0.0329\n",
      "Epoch 97/100\n",
      "296/296 - 0s - loss: 0.0299 - mse: 0.0299 - val_loss: 0.0318 - val_mse: 0.0318\n",
      "Epoch 98/100\n",
      "296/296 - 0s - loss: 0.0289 - mse: 0.0289 - val_loss: 0.0304 - val_mse: 0.0304\n",
      "Epoch 99/100\n",
      "296/296 - 0s - loss: 0.0277 - mse: 0.0277 - val_loss: 0.0293 - val_mse: 0.0293\n",
      "Epoch 100/100\n",
      "296/296 - 0s - loss: 0.0267 - mse: 0.0267 - val_loss: 0.0288 - val_mse: 0.0288\n"
     ]
    }
   ],
   "source": [
    "nn.train_model(epochs = 20)"
   ]
  },
  {
   "cell_type": "code",
   "execution_count": 7,
   "id": "duplicate-palestinian",
   "metadata": {},
   "outputs": [
    {
     "data": {
      "image/png": "[encoded data removed]",
      "text/plain": [
       "<Figure size 432x288 with 1 Axes>"
      ]
     },
     "metadata": {
      "needs_background": "light"
     },
     "output_type": "display_data"
    }
   ],
   "source": [
    "nn.plot()"
   ]
  },
  {
   "cell_type": "code",
   "execution_count": 8,
   "id": "involved-uncertainty",
   "metadata": {},
   "outputs": [
    {
     "name": "stdout",
     "output_type": "stream",
     "text": [
      "61/61 [==============================] - 0s 325us/step - loss: 0.0287 - mse: 0.0287\n"
     ]
    }
   ],
   "source": [
    "nn.eval(test_data, test_goal)"
   ]
  },
  {
   "cell_type": "markdown",
   "id": "auburn-healing",
   "metadata": {},
   "source": [
    "### Change parameters"
   ]
  },
  {
   "cell_type": "code",
   "execution_count": 9,
   "id": "expanded-underground",
   "metadata": {},
   "outputs": [],
   "source": [
    "# run = runner()\n",
    "# run.env.change_params(masscart = 1.05)\n",
    "# run.run_times(100)\n",
    "# run.save('sv4')"
   ]
  },
  {
   "cell_type": "code",
   "execution_count": 10,
   "id": "brown-psychology",
   "metadata": {},
   "outputs": [
    {
     "name": "stdout",
     "output_type": "stream",
     "text": [
      "79/79 [==============================] - 0s 397us/step - loss: 0.3404 - mse: 0.3404\n"
     ]
    }
   ],
   "source": [
    "data4 = np.load(\"sv4.npy\", allow_pickle=True)\n",
    "\n",
    "changed_data = np.array(data4[0]['SAs'])\n",
    "changed_goal = np.array(data4[0]['dx'])\n",
    "\n",
    "nn.eval(changed_data, changed_goal)"
   ]
  }
 ],
 "metadata": {
  "kernelspec": {
   "display_name": "Python 3",
   "language": "python",
   "name": "python3"
  },
  "language_info": {
   "codemirror_mode": {
    "name": "ipython",
    "version": 3
   },
   "file_extension": ".py",
   "mimetype": "text/x-python",
   "name": "python",
   "nbconvert_exporter": "python",
   "pygments_lexer": "ipython3",
   "version": "3.8.6"
  }
 },
 "nbformat": 4,
 "nbformat_minor": 5
}
