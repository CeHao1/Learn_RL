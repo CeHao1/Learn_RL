{
 "cells": [
  {
   "cell_type": "code",
   "execution_count": 1,
   "id": "overhead-grade",
   "metadata": {},
   "outputs": [],
   "source": [
    "# import sys, os.path\n",
    "# sys.path.insert(0, os.path.join(os.path.dirname(__file__), 'name'))"
   ]
  },
  {
   "cell_type": "code",
   "execution_count": 2,
   "id": "detected-daisy",
   "metadata": {},
   "outputs": [],
   "source": [
    "from src.NN.cartpole_nn import cartpole_nn\n",
    "from src.collector.runner import runner\n",
    "from src.collector.collect import cartpole_collect\n",
    "import numpy as np\n",
    "import gym"
   ]
  },
  {
   "cell_type": "code",
   "execution_count": 3,
   "id": "covered-organ",
   "metadata": {
    "scrolled": true
   },
   "outputs": [],
   "source": [
    "# generate training data\n",
    "\n",
    "# run = runner(1000)\n",
    "# run.run_times()\n",
    "# run.save_np()"
   ]
  },
  {
   "cell_type": "code",
   "execution_count": 4,
   "id": "transsexual-factory",
   "metadata": {},
   "outputs": [],
   "source": [
    "# load data\n",
    "data = np.load(\"cartpole_dataset.npy\", allow_pickle=True)\n",
    "train_data = np.array(data[0]['SAs'])\n",
    "target_data = np.array(data[0]['ABs'])"
   ]
  },
  {
   "cell_type": "code",
   "execution_count": 5,
   "id": "reflected-junction",
   "metadata": {},
   "outputs": [],
   "source": [
    "nn = cartpole_nn()"
   ]
  }
 ],
 "metadata": {
  "kernelspec": {
   "display_name": "Python 3",
   "language": "python",
   "name": "python3"
  },
  "language_info": {
   "codemirror_mode": {
    "name": "ipython",
    "version": 3
   },
   "file_extension": ".py",
   "mimetype": "text/x-python",
   "name": "python",
   "nbconvert_exporter": "python",
   "pygments_lexer": "ipython3",
   "version": "3.8.6"
  }
 },
 "nbformat": 4,
 "nbformat_minor": 5
}
