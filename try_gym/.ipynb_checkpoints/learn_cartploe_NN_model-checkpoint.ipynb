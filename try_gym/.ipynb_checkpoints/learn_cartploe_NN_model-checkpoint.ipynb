{
 "cells": [
  {
   "cell_type": "code",
   "execution_count": 1,
   "id": "overhead-grade",
   "metadata": {},
   "outputs": [],
   "source": [
    "# import sys, os.path\n",
    "# sys.path.insert(0, os.path.join(os.path.dirname(__file__), 'name'))"
   ]
  },
  {
   "cell_type": "code",
   "execution_count": 2,
   "id": "detected-daisy",
   "metadata": {},
   "outputs": [],
   "source": [
    "from src.NN.cartpole_nn import cartpole_nn\n",
    "from src.collector.runner import runner\n",
    "# from src.collector.collect import cartpole_collect\n",
    "import numpy as np\n",
    "import gym\n",
    "import matplotlib.pyplot as plt\n",
    "\n",
    "%matplotlib inline"
   ]
  },
  {
   "cell_type": "code",
   "execution_count": 3,
   "id": "covered-organ",
   "metadata": {
    "scrolled": true
   },
   "outputs": [
    {
     "name": "stderr",
     "output_type": "stream",
     "text": [
      "100%|██████████| 1000/1000 [00:00<00:00, 3296.15it/s]\n",
      "100%|██████████| 1000/1000 [00:00<00:00, 3477.79it/s]\n"
     ]
    }
   ],
   "source": [
    "# # generate training data\n",
    "\n",
    "run = runner()\n",
    "run.run_times(100000)\n",
    "run.save('sv2')\n",
    "\n",
    "run.clear()\n",
    "run.run_times(1000)\n",
    "run.save('sv3')\n"
   ]
  },
  {
   "cell_type": "code",
   "execution_count": 4,
   "id": "wireless-threat",
   "metadata": {},
   "outputs": [],
   "source": [
    "# load data\n",
    "# data = np.load(\"cartpole_dataset.npy\", allow_pickle=True)\n",
    "# data = np.load(\"sv2.npy\", allow_pickle=True)\n",
    "\n",
    "# train_data = np.array(data[0]['SAs'])\n",
    "# train_goal = np.array(data[0]['ds'])\n",
    "\n",
    "\n",
    "# data2 = np.load(\"sv3.npy\", allow_pickle=True)\n",
    "# test_data = np.array(data2[0]['SAs'])\n",
    "# test_goal = np.array(data2[0]['ds'])"
   ]
  },
  {
   "cell_type": "code",
   "execution_count": 5,
   "id": "vanilla-creation",
   "metadata": {},
   "outputs": [],
   "source": [
    "data = np.load(\"sv2.npy\", allow_pickle=True)\n",
    "data2 = np.load(\"sv3.npy\", allow_pickle=True)\n",
    "\n",
    "tr1 = np.array(data[0]['SAs'])\n",
    "tr2 = np.array(data[0]['params'])\n",
    "train_data = np.empty((tr1.shape[0],tr1.shape[1]+tr2.shape[1]))\n",
    "train_goal = np.array(data[0]['ds'])\n",
    "\n",
    "te1 = np.array(data2[0]['SAs'])\n",
    "te2 = np.array(data2[0]['params'])\n",
    "test_data = np.empty((te1.shape[0],te1.shape[1]+te2.shape[1]))\n",
    "test_goal = np.array(data2[0]['ds'])\n",
    "\n",
    "for i in range(tr1.shape[0]):\n",
    "    train_data[i] = np.hstack((tr1[i],tr2[i]))\n",
    "    \n",
    "for i in range(te1.shape[0]):\n",
    "    test_data[i] = np.hstack((te1[i],te2[i]))\n",
    "    "
   ]
  },
  {
   "cell_type": "code",
   "execution_count": 6,
   "id": "paperback-ensemble",
   "metadata": {},
   "outputs": [],
   "source": [
    "nn = cartpole_nn(train_data, train_goal)"
   ]
  },
  {
   "cell_type": "code",
   "execution_count": 7,
   "id": "humanitarian-business",
   "metadata": {},
   "outputs": [
    {
     "name": "stdout",
     "output_type": "stream",
     "text": [
      "Epoch 1/100\n",
      "115/115 - 1s - loss: 14759317.0000 - mse: 14759317.0000 - val_loss: 6277146.5000 - val_mse: 6277146.5000\n",
      "Epoch 2/100\n",
      "115/115 - 0s - loss: 14757992.0000 - mse: 14757992.0000 - val_loss: 6270304.5000 - val_mse: 6270304.5000\n",
      "Epoch 3/100\n",
      "115/115 - 0s - loss: 14764756.0000 - mse: 14764756.0000 - val_loss: 6267588.0000 - val_mse: 6267588.0000\n",
      "Epoch 4/100\n",
      "115/115 - 0s - loss: 14756898.0000 - mse: 14756898.0000 - val_loss: 6287696.5000 - val_mse: 6287696.5000\n",
      "Epoch 5/100\n",
      "115/115 - 0s - loss: 15100915.0000 - mse: 15100915.0000 - val_loss: 6270753.0000 - val_mse: 6270753.0000\n",
      "Epoch 6/100\n",
      "115/115 - 0s - loss: 14774904.0000 - mse: 14774904.0000 - val_loss: 6233825.0000 - val_mse: 6233825.0000\n",
      "Epoch 7/100\n",
      "115/115 - 0s - loss: 14708008.0000 - mse: 14708008.0000 - val_loss: 6252242.5000 - val_mse: 6252242.5000\n",
      "Epoch 8/100\n",
      "115/115 - 0s - loss: 15087125.0000 - mse: 15087125.0000 - val_loss: 6217794.5000 - val_mse: 6217794.5000\n",
      "Epoch 9/100\n",
      "115/115 - 0s - loss: 14651575.0000 - mse: 14651575.0000 - val_loss: 6158129.5000 - val_mse: 6158129.5000\n",
      "Epoch 10/100\n",
      "115/115 - 0s - loss: 14731340.0000 - mse: 14731340.0000 - val_loss: 6169426.5000 - val_mse: 6169426.5000\n",
      "Epoch 11/100\n",
      "115/115 - 0s - loss: 14585682.0000 - mse: 14585682.0000 - val_loss: 6165463.0000 - val_mse: 6165463.0000\n",
      "Epoch 12/100\n",
      "115/115 - 0s - loss: 14545036.0000 - mse: 14545036.0000 - val_loss: 6102253.0000 - val_mse: 6102253.0000\n",
      "Epoch 13/100\n",
      "115/115 - 0s - loss: 14454445.0000 - mse: 14454445.0000 - val_loss: 6047430.0000 - val_mse: 6047430.0000\n",
      "Epoch 14/100\n",
      "115/115 - 0s - loss: 14257834.0000 - mse: 14257834.0000 - val_loss: 6047479.0000 - val_mse: 6047479.0000\n",
      "Epoch 15/100\n",
      "115/115 - 0s - loss: 14397361.0000 - mse: 14397361.0000 - val_loss: 5956725.0000 - val_mse: 5956725.0000\n",
      "Epoch 16/100\n",
      "115/115 - 0s - loss: 14066311.0000 - mse: 14066311.0000 - val_loss: 6047095.5000 - val_mse: 6047095.5000\n",
      "Epoch 17/100\n",
      "115/115 - 0s - loss: 14450313.0000 - mse: 14450313.0000 - val_loss: 7185502.0000 - val_mse: 7185502.0000\n",
      "Epoch 18/100\n",
      "115/115 - 0s - loss: 13746091.0000 - mse: 13746091.0000 - val_loss: 6059290.5000 - val_mse: 6059290.5000\n",
      "Epoch 19/100\n",
      "115/115 - 0s - loss: 13955178.0000 - mse: 13955178.0000 - val_loss: 6002437.0000 - val_mse: 6002437.0000\n",
      "Epoch 20/100\n",
      "115/115 - 0s - loss: 13957273.0000 - mse: 13957273.0000 - val_loss: 5856580.0000 - val_mse: 5856580.0000\n",
      "Epoch 21/100\n",
      "115/115 - 0s - loss: 12747923.0000 - mse: 12747923.0000 - val_loss: 5980286.0000 - val_mse: 5980286.0000\n",
      "Epoch 22/100\n",
      "115/115 - 0s - loss: 11830257.0000 - mse: 11830257.0000 - val_loss: 5939431.5000 - val_mse: 5939431.5000\n",
      "Epoch 23/100\n",
      "115/115 - 0s - loss: 12860416.0000 - mse: 12860416.0000 - val_loss: 5941232.0000 - val_mse: 5941232.0000\n",
      "Epoch 24/100\n",
      "115/115 - 0s - loss: 9672977.0000 - mse: 9672977.0000 - val_loss: 5897571.5000 - val_mse: 5897571.5000\n",
      "Epoch 25/100\n",
      "115/115 - 0s - loss: 9720097.0000 - mse: 9720097.0000 - val_loss: 6101512.5000 - val_mse: 6101512.5000\n",
      "Epoch 26/100\n",
      "115/115 - 0s - loss: 7195500.0000 - mse: 7195500.0000 - val_loss: 5910431.0000 - val_mse: 5910431.0000\n",
      "Epoch 27/100\n",
      "115/115 - 0s - loss: 2913799.5000 - mse: 2913799.5000 - val_loss: 5994281.5000 - val_mse: 5994281.5000\n",
      "Epoch 28/100\n",
      "115/115 - 0s - loss: 14714724.0000 - mse: 14714724.0000 - val_loss: 5946612.5000 - val_mse: 5946612.5000\n",
      "Epoch 29/100\n",
      "115/115 - 0s - loss: 14712885.0000 - mse: 14712885.0000 - val_loss: 5943571.5000 - val_mse: 5943571.5000\n",
      "Epoch 30/100\n",
      "115/115 - 0s - loss: 14699927.0000 - mse: 14699927.0000 - val_loss: 5877549.5000 - val_mse: 5877549.5000\n",
      "Epoch 31/100\n",
      "115/115 - 0s - loss: 14700864.0000 - mse: 14700864.0000 - val_loss: 6013633.0000 - val_mse: 6013633.0000\n",
      "Epoch 32/100\n",
      "115/115 - 0s - loss: 14681501.0000 - mse: 14681501.0000 - val_loss: 5837619.5000 - val_mse: 5837619.5000\n",
      "Epoch 33/100\n",
      "115/115 - 0s - loss: 14691521.0000 - mse: 14691521.0000 - val_loss: 5889072.5000 - val_mse: 5889072.5000\n",
      "Epoch 34/100\n",
      "115/115 - 0s - loss: 14674846.0000 - mse: 14674846.0000 - val_loss: 6004968.5000 - val_mse: 6004968.5000\n",
      "Epoch 35/100\n",
      "115/115 - 0s - loss: 14688302.0000 - mse: 14688302.0000 - val_loss: 5966609.5000 - val_mse: 5966609.5000\n",
      "Epoch 36/100\n",
      "115/115 - 0s - loss: 14680018.0000 - mse: 14680018.0000 - val_loss: 5901108.0000 - val_mse: 5901108.0000\n",
      "Epoch 37/100\n",
      "115/115 - 0s - loss: 14671092.0000 - mse: 14671092.0000 - val_loss: 5954812.5000 - val_mse: 5954812.5000\n",
      "Epoch 38/100\n",
      "115/115 - 0s - loss: 14674384.0000 - mse: 14674384.0000 - val_loss: 5835779.0000 - val_mse: 5835779.0000\n",
      "Epoch 39/100\n",
      "115/115 - 0s - loss: 14661860.0000 - mse: 14661860.0000 - val_loss: 6021590.0000 - val_mse: 6021590.0000\n",
      "Epoch 40/100\n",
      "115/115 - 0s - loss: 14688975.0000 - mse: 14688975.0000 - val_loss: 5994032.0000 - val_mse: 5994032.0000\n",
      "Epoch 41/100\n",
      "115/115 - 0s - loss: 14676055.0000 - mse: 14676055.0000 - val_loss: 5991493.0000 - val_mse: 5991493.0000\n",
      "Epoch 42/100\n",
      "115/115 - 0s - loss: 14713307.0000 - mse: 14713307.0000 - val_loss: 6073507.5000 - val_mse: 6073507.5000\n",
      "Epoch 43/100\n",
      "115/115 - 0s - loss: 14680335.0000 - mse: 14680335.0000 - val_loss: 6187413.0000 - val_mse: 6187413.0000\n",
      "Epoch 44/100\n",
      "115/115 - 0s - loss: 14661983.0000 - mse: 14661983.0000 - val_loss: 6172285.5000 - val_mse: 6172285.5000\n",
      "Epoch 45/100\n",
      "115/115 - 0s - loss: 14693675.0000 - mse: 14693675.0000 - val_loss: 6044678.0000 - val_mse: 6044678.0000\n",
      "Epoch 46/100\n",
      "115/115 - 0s - loss: 14661729.0000 - mse: 14661729.0000 - val_loss: 6022030.5000 - val_mse: 6022030.5000\n",
      "Epoch 47/100\n",
      "115/115 - 0s - loss: 14674717.0000 - mse: 14674717.0000 - val_loss: 5999845.5000 - val_mse: 5999845.5000\n",
      "Epoch 48/100\n",
      "115/115 - 0s - loss: 14662079.0000 - mse: 14662079.0000 - val_loss: 6252868.5000 - val_mse: 6252868.5000\n",
      "Epoch 49/100\n",
      "115/115 - 0s - loss: 14661466.0000 - mse: 14661466.0000 - val_loss: 6207301.0000 - val_mse: 6207301.0000\n",
      "Epoch 50/100\n",
      "115/115 - 0s - loss: 14627049.0000 - mse: 14627049.0000 - val_loss: 6075917.5000 - val_mse: 6075917.5000\n",
      "Epoch 51/100\n",
      "115/115 - 0s - loss: 14640213.0000 - mse: 14640213.0000 - val_loss: 6189623.0000 - val_mse: 6189623.0000\n",
      "Epoch 52/100\n",
      "115/115 - 0s - loss: 14652863.0000 - mse: 14652863.0000 - val_loss: 6178979.0000 - val_mse: 6178979.0000\n",
      "Epoch 53/100\n",
      "115/115 - 0s - loss: 14642443.0000 - mse: 14642443.0000 - val_loss: 6195016.0000 - val_mse: 6195016.0000\n",
      "Epoch 54/100\n",
      "115/115 - 0s - loss: 14637457.0000 - mse: 14637457.0000 - val_loss: 6196349.5000 - val_mse: 6196349.5000\n",
      "Epoch 55/100\n",
      "115/115 - 0s - loss: 14643426.0000 - mse: 14643426.0000 - val_loss: 6254211.0000 - val_mse: 6254211.0000\n",
      "Epoch 56/100\n",
      "115/115 - 0s - loss: 14587275.0000 - mse: 14587275.0000 - val_loss: 6141868.0000 - val_mse: 6141868.0000\n",
      "Epoch 57/100\n",
      "115/115 - 0s - loss: 14603433.0000 - mse: 14603433.0000 - val_loss: 6162699.0000 - val_mse: 6162699.0000\n",
      "Epoch 58/100\n",
      "115/115 - 0s - loss: 14637769.0000 - mse: 14637769.0000 - val_loss: 6226388.5000 - val_mse: 6226388.5000\n",
      "Epoch 59/100\n",
      "115/115 - 0s - loss: 14610939.0000 - mse: 14610939.0000 - val_loss: 6205291.5000 - val_mse: 6205291.5000\n",
      "Epoch 60/100\n",
      "115/115 - 0s - loss: 14592928.0000 - mse: 14592928.0000 - val_loss: 6372685.0000 - val_mse: 6372685.0000\n",
      "Epoch 61/100\n",
      "115/115 - 0s - loss: 14605260.0000 - mse: 14605260.0000 - val_loss: 6287004.0000 - val_mse: 6287004.0000\n",
      "Epoch 62/100\n",
      "115/115 - 0s - loss: 14713225.0000 - mse: 14713225.0000 - val_loss: 6365077.0000 - val_mse: 6365077.0000\n",
      "Epoch 63/100\n",
      "115/115 - 0s - loss: 14666340.0000 - mse: 14666340.0000 - val_loss: 6183774.5000 - val_mse: 6183774.5000\n",
      "Epoch 64/100\n",
      "115/115 - 0s - loss: 14579053.0000 - mse: 14579053.0000 - val_loss: 6188722.0000 - val_mse: 6188722.0000\n",
      "Epoch 65/100\n",
      "115/115 - 0s - loss: 14579356.0000 - mse: 14579356.0000 - val_loss: 6158441.5000 - val_mse: 6158441.5000\n",
      "Epoch 66/100\n",
      "115/115 - 0s - loss: 14592950.0000 - mse: 14592950.0000 - val_loss: 6969337.0000 - val_mse: 6969337.0000\n",
      "Epoch 67/100\n",
      "115/115 - 0s - loss: 13062522.0000 - mse: 13062522.0000 - val_loss: 6195453.0000 - val_mse: 6195453.0000\n",
      "Epoch 68/100\n",
      "115/115 - 0s - loss: 13558321.0000 - mse: 13558321.0000 - val_loss: 6291602.5000 - val_mse: 6291602.5000\n",
      "Epoch 69/100\n",
      "115/115 - 0s - loss: 2542402.0000 - mse: 2542402.0000 - val_loss: 6222398.5000 - val_mse: 6222398.5000\n",
      "Epoch 70/100\n",
      "115/115 - 0s - loss: 1490602.7500 - mse: 1490602.7500 - val_loss: 6227584.5000 - val_mse: 6227584.5000\n"
     ]
    },
    {
     "name": "stdout",
     "output_type": "stream",
     "text": [
      "Epoch 71/100\n",
      "115/115 - 0s - loss: 4160415.5000 - mse: 4160415.5000 - val_loss: 6467265.5000 - val_mse: 6467265.5000\n",
      "Epoch 72/100\n",
      "115/115 - 0s - loss: 512322.9688 - mse: 512322.9688 - val_loss: 6241706.0000 - val_mse: 6241706.0000\n",
      "Epoch 73/100\n",
      "115/115 - 0s - loss: 722629.6250 - mse: 722629.6250 - val_loss: 6274752.5000 - val_mse: 6274752.5000\n",
      "Epoch 74/100\n",
      "115/115 - 0s - loss: 701448.1875 - mse: 701448.1875 - val_loss: 6215051.0000 - val_mse: 6215051.0000\n",
      "Epoch 75/100\n",
      "115/115 - 0s - loss: 1238573.0000 - mse: 1238573.0000 - val_loss: 6201461.5000 - val_mse: 6201461.5000\n",
      "Epoch 76/100\n",
      "115/115 - 0s - loss: 884775.3750 - mse: 884775.3750 - val_loss: 6276969.5000 - val_mse: 6276969.5000\n",
      "Epoch 77/100\n",
      "115/115 - 0s - loss: 1690307.2500 - mse: 1690307.2500 - val_loss: 6597989.5000 - val_mse: 6597989.5000\n",
      "Epoch 78/100\n",
      "115/115 - 0s - loss: 409348.7812 - mse: 409348.7812 - val_loss: 6311703.0000 - val_mse: 6311703.0000\n",
      "Epoch 79/100\n",
      "115/115 - 0s - loss: 527959.1250 - mse: 527959.1250 - val_loss: 6239340.5000 - val_mse: 6239340.5000\n",
      "Epoch 80/100\n",
      "115/115 - 0s - loss: 701501.4375 - mse: 701501.4375 - val_loss: 6475270.0000 - val_mse: 6475270.0000\n",
      "Epoch 81/100\n",
      "115/115 - 0s - loss: 1563057.8750 - mse: 1563057.8750 - val_loss: 6243854.0000 - val_mse: 6243854.0000\n",
      "Epoch 82/100\n",
      "115/115 - 0s - loss: 1231942.3750 - mse: 1231942.3750 - val_loss: 6235069.0000 - val_mse: 6235069.0000\n",
      "Epoch 83/100\n",
      "115/115 - 0s - loss: 2898580.0000 - mse: 2898580.0000 - val_loss: 6426155.0000 - val_mse: 6426155.0000\n",
      "Epoch 84/100\n",
      "115/115 - 0s - loss: 524977.3125 - mse: 524977.3125 - val_loss: 6300467.5000 - val_mse: 6300467.5000\n",
      "Epoch 85/100\n",
      "115/115 - 0s - loss: 354634.8438 - mse: 354634.8438 - val_loss: 6242868.0000 - val_mse: 6242868.0000\n",
      "Epoch 86/100\n",
      "115/115 - 0s - loss: 495400.0312 - mse: 495400.0312 - val_loss: 6395465.5000 - val_mse: 6395465.5000\n",
      "Epoch 87/100\n",
      "115/115 - 0s - loss: 527674.9375 - mse: 527674.9375 - val_loss: 6240233.0000 - val_mse: 6240233.0000\n",
      "Epoch 88/100\n",
      "115/115 - 0s - loss: 1088176.8750 - mse: 1088176.8750 - val_loss: 6281755.0000 - val_mse: 6281755.0000\n",
      "Epoch 89/100\n",
      "115/115 - 0s - loss: 980822.2500 - mse: 980822.2500 - val_loss: 6220540.0000 - val_mse: 6220540.0000\n",
      "Epoch 90/100\n",
      "115/115 - 0s - loss: 2739813.2500 - mse: 2739813.2500 - val_loss: 6707012.5000 - val_mse: 6707012.5000\n",
      "Epoch 91/100\n",
      "115/115 - 0s - loss: 835109.5625 - mse: 835109.5625 - val_loss: 6225864.0000 - val_mse: 6225864.0000\n",
      "Epoch 92/100\n",
      "115/115 - 0s - loss: 1911424.3750 - mse: 1911424.3750 - val_loss: 6207958.0000 - val_mse: 6207958.0000\n",
      "Epoch 93/100\n",
      "115/115 - 0s - loss: 2961952.5000 - mse: 2961952.5000 - val_loss: 6282645.5000 - val_mse: 6282645.5000\n",
      "Epoch 94/100\n",
      "115/115 - 0s - loss: 1095660.1250 - mse: 1095660.1250 - val_loss: 6287943.0000 - val_mse: 6287943.0000\n",
      "Epoch 95/100\n",
      "115/115 - 0s - loss: 6006514.5000 - mse: 6006514.5000 - val_loss: 6284425.0000 - val_mse: 6284425.0000\n",
      "Epoch 96/100\n",
      "115/115 - 0s - loss: 5042447.5000 - mse: 5042447.5000 - val_loss: 6282153.0000 - val_mse: 6282153.0000\n",
      "Epoch 97/100\n",
      "115/115 - 0s - loss: 3663321.5000 - mse: 3663321.5000 - val_loss: 6318253.0000 - val_mse: 6318253.0000\n",
      "Epoch 98/100\n",
      "115/115 - 0s - loss: 1024985.4375 - mse: 1024985.4375 - val_loss: 6284602.0000 - val_mse: 6284602.0000\n",
      "Epoch 99/100\n",
      "115/115 - 0s - loss: 519786.0625 - mse: 519786.0625 - val_loss: 6283832.5000 - val_mse: 6283832.5000\n",
      "Epoch 100/100\n",
      "115/115 - 0s - loss: 514714.0312 - mse: 514714.0312 - val_loss: 6283238.5000 - val_mse: 6283238.5000\n"
     ]
    }
   ],
   "source": [
    "nn.train_model(epochs = 100, verbose = 2)"
   ]
  },
  {
   "cell_type": "code",
   "execution_count": 8,
   "id": "biological-coffee",
   "metadata": {
    "scrolled": true
   },
   "outputs": [
    {
     "data": {
      "image/png": "[encoded data removed]",
      "text/plain": [
       "<Figure size 432x288 with 1 Axes>"
      ]
     },
     "metadata": {
      "needs_background": "light"
     },
     "output_type": "display_data"
    }
   ],
   "source": [
    "nn.plot()"
   ]
  },
  {
   "cell_type": "code",
   "execution_count": 12,
   "id": "metropolitan-society",
   "metadata": {},
   "outputs": [
    {
     "name": "stdout",
     "output_type": "stream",
     "text": [
      "270/270 [==============================] - 0s 400us/step - loss: 7840485888.0000 - mse: 7840485888.0000\n",
      "Error:  7939.288657935128  %\n"
     ]
    }
   ],
   "source": [
    "nn.eval(test_data, test_goal)"
   ]
  },
  {
   "cell_type": "markdown",
   "id": "horizontal-conference",
   "metadata": {},
   "source": [
    "### Change parameters"
   ]
  },
  {
   "cell_type": "code",
   "execution_count": 10,
   "id": "dried-karma",
   "metadata": {},
   "outputs": [
    {
     "name": "stderr",
     "output_type": "stream",
     "text": [
      "100%|██████████| 100/100 [00:00<00:00, 3333.36it/s]\n"
     ]
    }
   ],
   "source": [
    "run = runner()\n",
    "run.env.change_params(masscart = 1.05)\n",
    "run.run_times(100)\n",
    "run.save('sv4')"
   ]
  },
  {
   "cell_type": "code",
   "execution_count": 11,
   "id": "personalized-student",
   "metadata": {},
   "outputs": [
    {
     "ename": "ValueError",
     "evalue": "in user code:\n\n    /opt/conda/lib/python3.8/site-packages/tensorflow/python/keras/engine/training.py:1233 test_function  *\n        return step_function(self, iterator)\n    /opt/conda/lib/python3.8/site-packages/tensorflow/python/keras/engine/training.py:1224 step_function  **\n        outputs = model.distribute_strategy.run(run_step, args=(data,))\n    /opt/conda/lib/python3.8/site-packages/tensorflow/python/distribute/distribute_lib.py:1259 run\n        return self._extended.call_for_each_replica(fn, args=args, kwargs=kwargs)\n    /opt/conda/lib/python3.8/site-packages/tensorflow/python/distribute/distribute_lib.py:2730 call_for_each_replica\n        return self._call_for_each_replica(fn, args, kwargs)\n    /opt/conda/lib/python3.8/site-packages/tensorflow/python/distribute/distribute_lib.py:3417 _call_for_each_replica\n        return fn(*args, **kwargs)\n    /opt/conda/lib/python3.8/site-packages/tensorflow/python/keras/engine/training.py:1217 run_step  **\n        outputs = model.test_step(data)\n    /opt/conda/lib/python3.8/site-packages/tensorflow/python/keras/engine/training.py:1183 test_step\n        y_pred = self(x, training=False)\n    /opt/conda/lib/python3.8/site-packages/tensorflow/python/keras/engine/base_layer.py:998 __call__\n        input_spec.assert_input_compatibility(self.input_spec, inputs, self.name)\n    /opt/conda/lib/python3.8/site-packages/tensorflow/python/keras/engine/input_spec.py:255 assert_input_compatibility\n        raise ValueError(\n\n    ValueError: Input 0 of layer sequential is incompatible with the layer: expected axis -1 of input shape to have value 9 but received input with shape (None, 5)\n",
     "output_type": "error",
     "traceback": [
      "\u001b[0;31m---------------------------------------------------------------------------\u001b[0m",
      "\u001b[0;31mValueError\u001b[0m                                Traceback (most recent call last)",
      "\u001b[0;32m<ipython-input-11-ff5486e4e99a>\u001b[0m in \u001b[0;36m<module>\u001b[0;34m\u001b[0m\n\u001b[1;32m      4\u001b[0m \u001b[0mchanged_goal\u001b[0m \u001b[0;34m=\u001b[0m \u001b[0mnp\u001b[0m\u001b[0;34m.\u001b[0m\u001b[0marray\u001b[0m\u001b[0;34m(\u001b[0m\u001b[0mdata4\u001b[0m\u001b[0;34m[\u001b[0m\u001b[0;36m0\u001b[0m\u001b[0;34m]\u001b[0m\u001b[0;34m[\u001b[0m\u001b[0;34m'dx'\u001b[0m\u001b[0;34m]\u001b[0m\u001b[0;34m)\u001b[0m\u001b[0;34m\u001b[0m\u001b[0;34m\u001b[0m\u001b[0m\n\u001b[1;32m      5\u001b[0m \u001b[0;34m\u001b[0m\u001b[0m\n\u001b[0;32m----> 6\u001b[0;31m \u001b[0mnn\u001b[0m\u001b[0;34m.\u001b[0m\u001b[0meval\u001b[0m\u001b[0;34m(\u001b[0m\u001b[0mchanged_data\u001b[0m\u001b[0;34m,\u001b[0m \u001b[0mchanged_goal\u001b[0m\u001b[0;34m)\u001b[0m\u001b[0;34m\u001b[0m\u001b[0;34m\u001b[0m\u001b[0m\n\u001b[0m",
      "\u001b[0;32m~/work/Learn_RL/try_gym/src/NN/cartpole_nn.py\u001b[0m in \u001b[0;36meval\u001b[0;34m(self, test_data, test_goal)\u001b[0m\n\u001b[1;32m     51\u001b[0m \u001b[0;34m\u001b[0m\u001b[0m\n\u001b[1;32m     52\u001b[0m     \u001b[0;32mdef\u001b[0m \u001b[0meval\u001b[0m\u001b[0;34m(\u001b[0m\u001b[0mself\u001b[0m\u001b[0;34m,\u001b[0m \u001b[0mtest_data\u001b[0m\u001b[0;34m,\u001b[0m \u001b[0mtest_goal\u001b[0m\u001b[0;34m)\u001b[0m\u001b[0;34m:\u001b[0m\u001b[0;34m\u001b[0m\u001b[0;34m\u001b[0m\u001b[0m\n\u001b[0;32m---> 53\u001b[0;31m         \u001b[0mloss\u001b[0m\u001b[0;34m,\u001b[0m \u001b[0m_\u001b[0m \u001b[0;34m=\u001b[0m \u001b[0mself\u001b[0m\u001b[0;34m.\u001b[0m\u001b[0mmodel\u001b[0m\u001b[0;34m.\u001b[0m\u001b[0mevaluate\u001b[0m\u001b[0;34m(\u001b[0m\u001b[0mtest_data\u001b[0m\u001b[0;34m,\u001b[0m \u001b[0mtest_goal\u001b[0m\u001b[0;34m)\u001b[0m\u001b[0;34m\u001b[0m\u001b[0;34m\u001b[0m\u001b[0m\n\u001b[0m\u001b[1;32m     54\u001b[0m         \u001b[0mprint\u001b[0m\u001b[0;34m(\u001b[0m\u001b[0;34m'Error: '\u001b[0m\u001b[0;34m,\u001b[0m \u001b[0;36m100.0\u001b[0m \u001b[0;34m*\u001b[0m \u001b[0mnp\u001b[0m\u001b[0;34m.\u001b[0m\u001b[0msqrt\u001b[0m\u001b[0;34m(\u001b[0m\u001b[0mloss\u001b[0m\u001b[0;34m)\u001b[0m\u001b[0;34m/\u001b[0m\u001b[0mnp\u001b[0m\u001b[0;34m.\u001b[0m\u001b[0maverage\u001b[0m\u001b[0;34m(\u001b[0m\u001b[0mabs\u001b[0m\u001b[0;34m(\u001b[0m\u001b[0mtest_goal\u001b[0m\u001b[0;34m)\u001b[0m\u001b[0;34m)\u001b[0m\u001b[0;34m,\u001b[0m\u001b[0;34m' %'\u001b[0m\u001b[0;34m)\u001b[0m\u001b[0;34m\u001b[0m\u001b[0;34m\u001b[0m\u001b[0m\n",
      "\u001b[0;32m/opt/conda/lib/python3.8/site-packages/tensorflow/python/keras/engine/training.py\u001b[0m in \u001b[0;36mevaluate\u001b[0;34m(self, x, y, batch_size, verbose, sample_weight, steps, callbacks, max_queue_size, workers, use_multiprocessing, return_dict)\u001b[0m\n\u001b[1;32m   1387\u001b[0m             \u001b[0;32mwith\u001b[0m \u001b[0mtrace\u001b[0m\u001b[0;34m.\u001b[0m\u001b[0mTrace\u001b[0m\u001b[0;34m(\u001b[0m\u001b[0;34m'test'\u001b[0m\u001b[0;34m,\u001b[0m \u001b[0mstep_num\u001b[0m\u001b[0;34m=\u001b[0m\u001b[0mstep\u001b[0m\u001b[0;34m,\u001b[0m \u001b[0m_r\u001b[0m\u001b[0;34m=\u001b[0m\u001b[0;36m1\u001b[0m\u001b[0;34m)\u001b[0m\u001b[0;34m:\u001b[0m\u001b[0;34m\u001b[0m\u001b[0;34m\u001b[0m\u001b[0m\n\u001b[1;32m   1388\u001b[0m               \u001b[0mcallbacks\u001b[0m\u001b[0;34m.\u001b[0m\u001b[0mon_test_batch_begin\u001b[0m\u001b[0;34m(\u001b[0m\u001b[0mstep\u001b[0m\u001b[0;34m)\u001b[0m\u001b[0;34m\u001b[0m\u001b[0;34m\u001b[0m\u001b[0m\n\u001b[0;32m-> 1389\u001b[0;31m               \u001b[0mtmp_logs\u001b[0m \u001b[0;34m=\u001b[0m \u001b[0mself\u001b[0m\u001b[0;34m.\u001b[0m\u001b[0mtest_function\u001b[0m\u001b[0;34m(\u001b[0m\u001b[0miterator\u001b[0m\u001b[0;34m)\u001b[0m\u001b[0;34m\u001b[0m\u001b[0;34m\u001b[0m\u001b[0m\n\u001b[0m\u001b[1;32m   1390\u001b[0m               \u001b[0;32mif\u001b[0m \u001b[0mdata_handler\u001b[0m\u001b[0;34m.\u001b[0m\u001b[0mshould_sync\u001b[0m\u001b[0;34m:\u001b[0m\u001b[0;34m\u001b[0m\u001b[0;34m\u001b[0m\u001b[0m\n\u001b[1;32m   1391\u001b[0m                 \u001b[0mcontext\u001b[0m\u001b[0;34m.\u001b[0m\u001b[0masync_wait\u001b[0m\u001b[0;34m(\u001b[0m\u001b[0;34m)\u001b[0m\u001b[0;34m\u001b[0m\u001b[0;34m\u001b[0m\u001b[0m\n",
      "\u001b[0;32m/opt/conda/lib/python3.8/site-packages/tensorflow/python/eager/def_function.py\u001b[0m in \u001b[0;36m__call__\u001b[0;34m(self, *args, **kwds)\u001b[0m\n\u001b[1;32m    826\u001b[0m     \u001b[0mtracing_count\u001b[0m \u001b[0;34m=\u001b[0m \u001b[0mself\u001b[0m\u001b[0;34m.\u001b[0m\u001b[0mexperimental_get_tracing_count\u001b[0m\u001b[0;34m(\u001b[0m\u001b[0;34m)\u001b[0m\u001b[0;34m\u001b[0m\u001b[0;34m\u001b[0m\u001b[0m\n\u001b[1;32m    827\u001b[0m     \u001b[0;32mwith\u001b[0m \u001b[0mtrace\u001b[0m\u001b[0;34m.\u001b[0m\u001b[0mTrace\u001b[0m\u001b[0;34m(\u001b[0m\u001b[0mself\u001b[0m\u001b[0;34m.\u001b[0m\u001b[0m_name\u001b[0m\u001b[0;34m)\u001b[0m \u001b[0;32mas\u001b[0m \u001b[0mtm\u001b[0m\u001b[0;34m:\u001b[0m\u001b[0;34m\u001b[0m\u001b[0;34m\u001b[0m\u001b[0m\n\u001b[0;32m--> 828\u001b[0;31m       \u001b[0mresult\u001b[0m \u001b[0;34m=\u001b[0m \u001b[0mself\u001b[0m\u001b[0;34m.\u001b[0m\u001b[0m_call\u001b[0m\u001b[0;34m(\u001b[0m\u001b[0;34m*\u001b[0m\u001b[0margs\u001b[0m\u001b[0;34m,\u001b[0m \u001b[0;34m**\u001b[0m\u001b[0mkwds\u001b[0m\u001b[0;34m)\u001b[0m\u001b[0;34m\u001b[0m\u001b[0;34m\u001b[0m\u001b[0m\n\u001b[0m\u001b[1;32m    829\u001b[0m       \u001b[0mcompiler\u001b[0m \u001b[0;34m=\u001b[0m \u001b[0;34m\"xla\"\u001b[0m \u001b[0;32mif\u001b[0m \u001b[0mself\u001b[0m\u001b[0;34m.\u001b[0m\u001b[0m_experimental_compile\u001b[0m \u001b[0;32melse\u001b[0m \u001b[0;34m\"nonXla\"\u001b[0m\u001b[0;34m\u001b[0m\u001b[0;34m\u001b[0m\u001b[0m\n\u001b[1;32m    830\u001b[0m       \u001b[0mnew_tracing_count\u001b[0m \u001b[0;34m=\u001b[0m \u001b[0mself\u001b[0m\u001b[0;34m.\u001b[0m\u001b[0mexperimental_get_tracing_count\u001b[0m\u001b[0;34m(\u001b[0m\u001b[0;34m)\u001b[0m\u001b[0;34m\u001b[0m\u001b[0;34m\u001b[0m\u001b[0m\n",
      "\u001b[0;32m/opt/conda/lib/python3.8/site-packages/tensorflow/python/eager/def_function.py\u001b[0m in \u001b[0;36m_call\u001b[0;34m(self, *args, **kwds)\u001b[0m\n\u001b[1;32m    860\u001b[0m       \u001b[0;31m# In this case we have not created variables on the first call. So we can\u001b[0m\u001b[0;34m\u001b[0m\u001b[0;34m\u001b[0m\u001b[0;34m\u001b[0m\u001b[0m\n\u001b[1;32m    861\u001b[0m       \u001b[0;31m# run the first trace but we should fail if variables are created.\u001b[0m\u001b[0;34m\u001b[0m\u001b[0;34m\u001b[0m\u001b[0;34m\u001b[0m\u001b[0m\n\u001b[0;32m--> 862\u001b[0;31m       \u001b[0mresults\u001b[0m \u001b[0;34m=\u001b[0m \u001b[0mself\u001b[0m\u001b[0;34m.\u001b[0m\u001b[0m_stateful_fn\u001b[0m\u001b[0;34m(\u001b[0m\u001b[0;34m*\u001b[0m\u001b[0margs\u001b[0m\u001b[0;34m,\u001b[0m \u001b[0;34m**\u001b[0m\u001b[0mkwds\u001b[0m\u001b[0;34m)\u001b[0m\u001b[0;34m\u001b[0m\u001b[0;34m\u001b[0m\u001b[0m\n\u001b[0m\u001b[1;32m    863\u001b[0m       \u001b[0;32mif\u001b[0m \u001b[0mself\u001b[0m\u001b[0;34m.\u001b[0m\u001b[0m_created_variables\u001b[0m\u001b[0;34m:\u001b[0m\u001b[0;34m\u001b[0m\u001b[0;34m\u001b[0m\u001b[0m\n\u001b[1;32m    864\u001b[0m         raise ValueError(\"Creating variables on a non-first call to a function\"\n",
      "\u001b[0;32m/opt/conda/lib/python3.8/site-packages/tensorflow/python/eager/function.py\u001b[0m in \u001b[0;36m__call__\u001b[0;34m(self, *args, **kwargs)\u001b[0m\n\u001b[1;32m   2939\u001b[0m     \u001b[0;32mwith\u001b[0m \u001b[0mself\u001b[0m\u001b[0;34m.\u001b[0m\u001b[0m_lock\u001b[0m\u001b[0;34m:\u001b[0m\u001b[0;34m\u001b[0m\u001b[0;34m\u001b[0m\u001b[0m\n\u001b[1;32m   2940\u001b[0m       (graph_function,\n\u001b[0;32m-> 2941\u001b[0;31m        filtered_flat_args) = self._maybe_define_function(args, kwargs)\n\u001b[0m\u001b[1;32m   2942\u001b[0m     return graph_function._call_flat(\n\u001b[1;32m   2943\u001b[0m         filtered_flat_args, captured_inputs=graph_function.captured_inputs)  # pylint: disable=protected-access\n",
      "\u001b[0;32m/opt/conda/lib/python3.8/site-packages/tensorflow/python/eager/function.py\u001b[0m in \u001b[0;36m_maybe_define_function\u001b[0;34m(self, args, kwargs)\u001b[0m\n\u001b[1;32m   3355\u001b[0m               \u001b[0mself\u001b[0m\u001b[0;34m.\u001b[0m\u001b[0minput_signature\u001b[0m \u001b[0;32mis\u001b[0m \u001b[0;32mNone\u001b[0m \u001b[0;32mand\u001b[0m\u001b[0;34m\u001b[0m\u001b[0;34m\u001b[0m\u001b[0m\n\u001b[1;32m   3356\u001b[0m               call_context_key in self._function_cache.missed):\n\u001b[0;32m-> 3357\u001b[0;31m             return self._define_function_with_shape_relaxation(\n\u001b[0m\u001b[1;32m   3358\u001b[0m                 args, kwargs, flat_args, filtered_flat_args, cache_key_context)\n\u001b[1;32m   3359\u001b[0m \u001b[0;34m\u001b[0m\u001b[0m\n",
      "\u001b[0;32m/opt/conda/lib/python3.8/site-packages/tensorflow/python/eager/function.py\u001b[0m in \u001b[0;36m_define_function_with_shape_relaxation\u001b[0;34m(self, args, kwargs, flat_args, filtered_flat_args, cache_key_context)\u001b[0m\n\u001b[1;32m   3277\u001b[0m           expand_composites=True)\n\u001b[1;32m   3278\u001b[0m \u001b[0;34m\u001b[0m\u001b[0m\n\u001b[0;32m-> 3279\u001b[0;31m     graph_function = self._create_graph_function(\n\u001b[0m\u001b[1;32m   3280\u001b[0m         args, kwargs, override_flat_arg_shapes=relaxed_arg_shapes)\n\u001b[1;32m   3281\u001b[0m     \u001b[0mself\u001b[0m\u001b[0;34m.\u001b[0m\u001b[0m_function_cache\u001b[0m\u001b[0;34m.\u001b[0m\u001b[0marg_relaxed\u001b[0m\u001b[0;34m[\u001b[0m\u001b[0mrank_only_cache_key\u001b[0m\u001b[0;34m]\u001b[0m \u001b[0;34m=\u001b[0m \u001b[0mgraph_function\u001b[0m\u001b[0;34m\u001b[0m\u001b[0;34m\u001b[0m\u001b[0m\n",
      "\u001b[0;32m/opt/conda/lib/python3.8/site-packages/tensorflow/python/eager/function.py\u001b[0m in \u001b[0;36m_create_graph_function\u001b[0;34m(self, args, kwargs, override_flat_arg_shapes)\u001b[0m\n\u001b[1;32m   3194\u001b[0m     \u001b[0marg_names\u001b[0m \u001b[0;34m=\u001b[0m \u001b[0mbase_arg_names\u001b[0m \u001b[0;34m+\u001b[0m \u001b[0mmissing_arg_names\u001b[0m\u001b[0;34m\u001b[0m\u001b[0;34m\u001b[0m\u001b[0m\n\u001b[1;32m   3195\u001b[0m     graph_function = ConcreteFunction(\n\u001b[0;32m-> 3196\u001b[0;31m         func_graph_module.func_graph_from_py_func(\n\u001b[0m\u001b[1;32m   3197\u001b[0m             \u001b[0mself\u001b[0m\u001b[0;34m.\u001b[0m\u001b[0m_name\u001b[0m\u001b[0;34m,\u001b[0m\u001b[0;34m\u001b[0m\u001b[0;34m\u001b[0m\u001b[0m\n\u001b[1;32m   3198\u001b[0m             \u001b[0mself\u001b[0m\u001b[0;34m.\u001b[0m\u001b[0m_python_function\u001b[0m\u001b[0;34m,\u001b[0m\u001b[0;34m\u001b[0m\u001b[0;34m\u001b[0m\u001b[0m\n",
      "\u001b[0;32m/opt/conda/lib/python3.8/site-packages/tensorflow/python/framework/func_graph.py\u001b[0m in \u001b[0;36mfunc_graph_from_py_func\u001b[0;34m(name, python_func, args, kwargs, signature, func_graph, autograph, autograph_options, add_control_dependencies, arg_names, op_return_value, collections, capture_by_value, override_flat_arg_shapes)\u001b[0m\n\u001b[1;32m    988\u001b[0m         \u001b[0m_\u001b[0m\u001b[0;34m,\u001b[0m \u001b[0moriginal_func\u001b[0m \u001b[0;34m=\u001b[0m \u001b[0mtf_decorator\u001b[0m\u001b[0;34m.\u001b[0m\u001b[0munwrap\u001b[0m\u001b[0;34m(\u001b[0m\u001b[0mpython_func\u001b[0m\u001b[0;34m)\u001b[0m\u001b[0;34m\u001b[0m\u001b[0;34m\u001b[0m\u001b[0m\n\u001b[1;32m    989\u001b[0m \u001b[0;34m\u001b[0m\u001b[0m\n\u001b[0;32m--> 990\u001b[0;31m       \u001b[0mfunc_outputs\u001b[0m \u001b[0;34m=\u001b[0m \u001b[0mpython_func\u001b[0m\u001b[0;34m(\u001b[0m\u001b[0;34m*\u001b[0m\u001b[0mfunc_args\u001b[0m\u001b[0;34m,\u001b[0m \u001b[0;34m**\u001b[0m\u001b[0mfunc_kwargs\u001b[0m\u001b[0;34m)\u001b[0m\u001b[0;34m\u001b[0m\u001b[0;34m\u001b[0m\u001b[0m\n\u001b[0m\u001b[1;32m    991\u001b[0m \u001b[0;34m\u001b[0m\u001b[0m\n\u001b[1;32m    992\u001b[0m       \u001b[0;31m# invariant: `func_outputs` contains only Tensors, CompositeTensors,\u001b[0m\u001b[0;34m\u001b[0m\u001b[0;34m\u001b[0m\u001b[0;34m\u001b[0m\u001b[0m\n",
      "\u001b[0;32m/opt/conda/lib/python3.8/site-packages/tensorflow/python/eager/def_function.py\u001b[0m in \u001b[0;36mwrapped_fn\u001b[0;34m(*args, **kwds)\u001b[0m\n\u001b[1;32m    632\u001b[0m             \u001b[0mxla_context\u001b[0m\u001b[0;34m.\u001b[0m\u001b[0mExit\u001b[0m\u001b[0;34m(\u001b[0m\u001b[0;34m)\u001b[0m\u001b[0;34m\u001b[0m\u001b[0;34m\u001b[0m\u001b[0m\n\u001b[1;32m    633\u001b[0m         \u001b[0;32melse\u001b[0m\u001b[0;34m:\u001b[0m\u001b[0;34m\u001b[0m\u001b[0;34m\u001b[0m\u001b[0m\n\u001b[0;32m--> 634\u001b[0;31m           \u001b[0mout\u001b[0m \u001b[0;34m=\u001b[0m \u001b[0mweak_wrapped_fn\u001b[0m\u001b[0;34m(\u001b[0m\u001b[0;34m)\u001b[0m\u001b[0;34m.\u001b[0m\u001b[0m__wrapped__\u001b[0m\u001b[0;34m(\u001b[0m\u001b[0;34m*\u001b[0m\u001b[0margs\u001b[0m\u001b[0;34m,\u001b[0m \u001b[0;34m**\u001b[0m\u001b[0mkwds\u001b[0m\u001b[0;34m)\u001b[0m\u001b[0;34m\u001b[0m\u001b[0;34m\u001b[0m\u001b[0m\n\u001b[0m\u001b[1;32m    635\u001b[0m         \u001b[0;32mreturn\u001b[0m \u001b[0mout\u001b[0m\u001b[0;34m\u001b[0m\u001b[0;34m\u001b[0m\u001b[0m\n\u001b[1;32m    636\u001b[0m \u001b[0;34m\u001b[0m\u001b[0m\n",
      "\u001b[0;32m/opt/conda/lib/python3.8/site-packages/tensorflow/python/framework/func_graph.py\u001b[0m in \u001b[0;36mwrapper\u001b[0;34m(*args, **kwargs)\u001b[0m\n\u001b[1;32m    975\u001b[0m           \u001b[0;32mexcept\u001b[0m \u001b[0mException\u001b[0m \u001b[0;32mas\u001b[0m \u001b[0me\u001b[0m\u001b[0;34m:\u001b[0m  \u001b[0;31m# pylint:disable=broad-except\u001b[0m\u001b[0;34m\u001b[0m\u001b[0;34m\u001b[0m\u001b[0m\n\u001b[1;32m    976\u001b[0m             \u001b[0;32mif\u001b[0m \u001b[0mhasattr\u001b[0m\u001b[0;34m(\u001b[0m\u001b[0me\u001b[0m\u001b[0;34m,\u001b[0m \u001b[0;34m\"ag_error_metadata\"\u001b[0m\u001b[0;34m)\u001b[0m\u001b[0;34m:\u001b[0m\u001b[0;34m\u001b[0m\u001b[0;34m\u001b[0m\u001b[0m\n\u001b[0;32m--> 977\u001b[0;31m               \u001b[0;32mraise\u001b[0m \u001b[0me\u001b[0m\u001b[0;34m.\u001b[0m\u001b[0mag_error_metadata\u001b[0m\u001b[0;34m.\u001b[0m\u001b[0mto_exception\u001b[0m\u001b[0;34m(\u001b[0m\u001b[0me\u001b[0m\u001b[0;34m)\u001b[0m\u001b[0;34m\u001b[0m\u001b[0;34m\u001b[0m\u001b[0m\n\u001b[0m\u001b[1;32m    978\u001b[0m             \u001b[0;32melse\u001b[0m\u001b[0;34m:\u001b[0m\u001b[0;34m\u001b[0m\u001b[0;34m\u001b[0m\u001b[0m\n\u001b[1;32m    979\u001b[0m               \u001b[0;32mraise\u001b[0m\u001b[0;34m\u001b[0m\u001b[0;34m\u001b[0m\u001b[0m\n",
      "\u001b[0;31mValueError\u001b[0m: in user code:\n\n    /opt/conda/lib/python3.8/site-packages/tensorflow/python/keras/engine/training.py:1233 test_function  *\n        return step_function(self, iterator)\n    /opt/conda/lib/python3.8/site-packages/tensorflow/python/keras/engine/training.py:1224 step_function  **\n        outputs = model.distribute_strategy.run(run_step, args=(data,))\n    /opt/conda/lib/python3.8/site-packages/tensorflow/python/distribute/distribute_lib.py:1259 run\n        return self._extended.call_for_each_replica(fn, args=args, kwargs=kwargs)\n    /opt/conda/lib/python3.8/site-packages/tensorflow/python/distribute/distribute_lib.py:2730 call_for_each_replica\n        return self._call_for_each_replica(fn, args, kwargs)\n    /opt/conda/lib/python3.8/site-packages/tensorflow/python/distribute/distribute_lib.py:3417 _call_for_each_replica\n        return fn(*args, **kwargs)\n    /opt/conda/lib/python3.8/site-packages/tensorflow/python/keras/engine/training.py:1217 run_step  **\n        outputs = model.test_step(data)\n    /opt/conda/lib/python3.8/site-packages/tensorflow/python/keras/engine/training.py:1183 test_step\n        y_pred = self(x, training=False)\n    /opt/conda/lib/python3.8/site-packages/tensorflow/python/keras/engine/base_layer.py:998 __call__\n        input_spec.assert_input_compatibility(self.input_spec, inputs, self.name)\n    /opt/conda/lib/python3.8/site-packages/tensorflow/python/keras/engine/input_spec.py:255 assert_input_compatibility\n        raise ValueError(\n\n    ValueError: Input 0 of layer sequential is incompatible with the layer: expected axis -1 of input shape to have value 9 but received input with shape (None, 5)\n"
     ]
    }
   ],
   "source": [
    "data4 = np.load(\"sv4.npy\", allow_pickle=True)\n",
    "\n",
    "changed_data = np.array(data4[0]['SAs'])\n",
    "changed_goal = np.array(data4[0]['dx'])\n",
    "\n",
    "nn.eval(changed_data, changed_goal)"
   ]
  }
 ],
 "metadata": {
  "kernelspec": {
   "display_name": "Python 3",
   "language": "python",
   "name": "python3"
  },
  "language_info": {
   "codemirror_mode": {
    "name": "ipython",
    "version": 3
   },
   "file_extension": ".py",
   "mimetype": "text/x-python",
   "name": "python",
   "nbconvert_exporter": "python",
   "pygments_lexer": "ipython3",
   "version": "3.8.6"
  }
 },
 "nbformat": 4,
 "nbformat_minor": 5
}
