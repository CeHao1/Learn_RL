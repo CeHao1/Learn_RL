{
 "cells": [
  {
   "cell_type": "code",
   "execution_count": 1,
   "id": "discrete-annual",
   "metadata": {},
   "outputs": [],
   "source": [
    "# from __future__ import absolute_import, division, print_function\n",
    "\n",
    "# import base64\n",
    "# import imageio\n",
    "# import IPython\n",
    "# import matplotlib\n",
    "# import matplotlib.pyplot as plt\n",
    "# import numpy as np\n",
    "# import PIL.Image\n",
    "# import pyvirtualdisplay\n",
    "\n",
    "# display = pyvirtualdisplay.Display(visible=0, size=(1400, 900)).start()"
   ]
  },
  {
   "cell_type": "code",
   "execution_count": 2,
   "id": "unique-silver",
   "metadata": {},
   "outputs": [],
   "source": [
    "from src.collector.collect import cartpole_collect\n",
    "from src.frame.run_frame import DQN_frame"
   ]
  },
  {
   "cell_type": "code",
   "execution_count": 3,
   "id": "present-header",
   "metadata": {},
   "outputs": [],
   "source": [
    "frame = DQN_frame()\n",
    "frame.build()"
   ]
  },
  {
   "cell_type": "code",
   "execution_count": 4,
   "id": "scenic-tuner",
   "metadata": {},
   "outputs": [],
   "source": [
    "# frame.compute_avg_return(frame.train_env, frame.random_policy)"
   ]
  },
  {
   "cell_type": "code",
   "execution_count": 5,
   "id": "constitutional-testament",
   "metadata": {},
   "outputs": [],
   "source": [
    "# frame.collect_data(frame.train_env, frame.random_policy, frame.replay_buffer, frame.initial_collect_steps)"
   ]
  },
  {
   "cell_type": "code",
   "execution_count": null,
   "id": "alleged-reservoir",
   "metadata": {},
   "outputs": [],
   "source": []
  }
 ],
 "metadata": {
  "kernelspec": {
   "display_name": "Python 3",
   "language": "python",
   "name": "python3"
  },
  "language_info": {
   "codemirror_mode": {
    "name": "ipython",
    "version": 3
   },
   "file_extension": ".py",
   "mimetype": "text/x-python",
   "name": "python",
   "nbconvert_exporter": "python",
   "pygments_lexer": "ipython3",
   "version": "3.8.6"
  }
 },
 "nbformat": 4,
 "nbformat_minor": 5
}
