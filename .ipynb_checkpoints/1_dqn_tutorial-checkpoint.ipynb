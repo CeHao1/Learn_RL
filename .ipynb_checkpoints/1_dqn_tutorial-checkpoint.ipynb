{
 "cells": [
  {
   "cell_type": "markdown",
   "metadata": {
    "colab_type": "text",
    "id": "klGNgWREsvQv"
   },
   "source": [
    "##### Copyright 2021 The TF-Agents Authors."
   ]
  },
  {
   "cell_type": "code",
   "execution_count": 1,
   "metadata": {
    "cellView": "form",
    "colab": {},
    "colab_type": "code",
    "execution": {
     "iopub.execute_input": "2021-01-06T12:40:04.531362Z",
     "iopub.status.busy": "2021-01-06T12:40:04.530277Z",
     "iopub.status.idle": "2021-01-06T12:40:04.533062Z",
     "shell.execute_reply": "2021-01-06T12:40:04.532570Z"
    },
    "id": "nQnmcm0oI1Q-"
   },
   "outputs": [],
   "source": [
    "#@title Licensed under the Apache License, Version 2.0 (the \"License\");\n",
    "# you may not use this file except in compliance with the License.\n",
    "# You may obtain a copy of the License at\n",
    "#\n",
    "# https://www.apache.org/licenses/LICENSE-2.0\n",
    "#\n",
    "# Unless required by applicable law or agreed to in writing, software\n",
    "# distributed under the License is distributed on an \"AS IS\" BASIS,\n",
    "# WITHOUT WARRANTIES OR CONDITIONS OF ANY KIND, either express or implied.\n",
    "# See the License for the specific language governing permissions and\n",
    "# limitations under the License."
   ]
  },
  {
   "cell_type": "markdown",
   "metadata": {
    "colab_type": "text",
    "id": "pmDI-h7cI0tI"
   },
   "source": [
    "# Train a Deep Q Network with TF-Agents\n",
    "\n",
    "<table class=\"tfo-notebook-buttons\" align=\"left\">\n",
    "  <td>\n",
    "    <a target=\"_blank\" href=\"https://www.tensorflow.org/agents/tutorials/1_dqn_tutorial\">\n",
    "    <img src=\"https://www.tensorflow.org/images/tf_logo_32px.png\" />\n",
    "    View on TensorFlow.org</a>\n",
    "  </td>\n",
    "  <td>\n",
    "    <a target=\"_blank\" href=\"https://colab.research.google.com/github/tensorflow/agents/blob/master/docs/tutorials/1_dqn_tutorial.ipynb\">\n",
    "    <img src=\"https://www.tensorflow.org/images/colab_logo_32px.png\" />\n",
    "    Run in Google Colab</a>\n",
    "  </td>\n",
    "  <td>\n",
    "    <a target=\"_blank\" href=\"https://github.com/tensorflow/agents/blob/master/docs/tutorials/1_dqn_tutorial.ipynb\">\n",
    "    <img src=\"https://www.tensorflow.org/images/GitHub-Mark-32px.png\" />\n",
    "    View source on GitHub</a>\n",
    "  </td>\n",
    "  <td>\n",
    "    <a href=\"https://storage.googleapis.com/tensorflow_docs/agents/docs/tutorials/1_dqn_tutorial.ipynb\"><img src=\"https://www.tensorflow.org/images/download_logo_32px.png\" />Download notebook</a>\n",
    "  </td>\n",
    "</table>"
   ]
  },
  {
   "cell_type": "markdown",
   "metadata": {
    "colab_type": "text",
    "id": "lsaQlK8fFQqH"
   },
   "source": [
    "## Introduction\n"
   ]
  },
  {
   "cell_type": "markdown",
   "metadata": {
    "colab_type": "text",
    "id": "cKOCZlhUgXVK"
   },
   "source": [
    "This example shows how to train a [DQN (Deep Q Networks)](https://storage.googleapis.com/deepmind-media/dqn/DQNNaturePaper.pdf)  agent on the Cartpole environment using the TF-Agents library.\n",
    "\n",
    "![Cartpole environment](https://raw.githubusercontent.com/tensorflow/agents/master/docs/tutorials/images/cartpole.png)\n",
    "\n",
    "It will walk you through all the components in a Reinforcement Learning (RL) pipeline for training, evaluation and data collection.\n",
    "\n",
    "\n",
    "To run this code live, click the 'Run in Google Colab' link above.\n"
   ]
  },
  {
   "cell_type": "markdown",
   "metadata": {
    "colab_type": "text",
    "id": "1u9QVVsShC9X"
   },
   "source": [
    "## Setup"
   ]
  },
  {
   "cell_type": "markdown",
   "metadata": {
    "colab_type": "text",
    "id": "kNrNXKI7bINP"
   },
   "source": [
    "If you haven't installed the following dependencies, run:"
   ]
  },
  {
   "cell_type": "code",
   "execution_count": 5,
   "metadata": {
    "colab": {},
    "colab_type": "code",
    "execution": {
     "iopub.execute_input": "2021-01-06T12:40:04.544835Z",
     "iopub.status.busy": "2021-01-06T12:40:04.541758Z",
     "iopub.status.idle": "2021-01-06T12:40:14.973611Z",
     "shell.execute_reply": "2021-01-06T12:40:14.972989Z"
    },
    "id": "KEHR2Ui-lo8O"
   },
   "outputs": [
    {
     "name": "stdout",
     "output_type": "stream",
     "text": [
      "\u001b[33mWARNING: Error parsing requirements for pytz: [Errno 2] No such file or directory: '/opt/conda/envs/py37/lib/python3.7/site-packages/pytz-2020.5.dist-info/METADATA'\u001b[0m\n",
      "\u001b[33mWARNING: Error parsing requirements for pytz: [Errno 2] No such file or directory: '/opt/conda/envs/py37/lib/python3.7/site-packages/pytz-2020.5.dist-info/METADATA'\u001b[0m\n",
      "\u001b[33mWARNING: Error parsing requirements for pytz: [Errno 2] No such file or directory: '/opt/conda/envs/py37/lib/python3.7/site-packages/pytz-2020.5.dist-info/METADATA'\u001b[0m\n"
     ]
    }
   ],
   "source": [
    "# !sudo apt-get install -y xvfb ffmpeg\n",
    "!pip install -q 'imageio==2.4.0'\n",
    "!pip install -q pyvirtualdisplay\n",
    "!pip install -q tf-agents"
   ]
  },
  {
   "cell_type": "code",
   "execution_count": 6,
   "metadata": {
    "colab": {},
    "colab_type": "code",
    "execution": {
     "iopub.execute_input": "2021-01-06T12:40:14.980957Z",
     "iopub.status.busy": "2021-01-06T12:40:14.980229Z",
     "iopub.status.idle": "2021-01-06T12:40:22.309900Z",
     "shell.execute_reply": "2021-01-06T12:40:22.309200Z"
    },
    "id": "sMitx5qSgJk1"
   },
   "outputs": [
    {
     "ename": "ModuleNotFoundError",
     "evalue": "No module named 'imageio'",
     "output_type": "error",
     "traceback": [
      "\u001b[0;31m---------------------------------------------------------------------------\u001b[0m",
      "\u001b[0;31mModuleNotFoundError\u001b[0m                       Traceback (most recent call last)",
      "\u001b[0;32m<ipython-input-6-23f3f8152da8>\u001b[0m in \u001b[0;36m<module>\u001b[0;34m\u001b[0m\n\u001b[1;32m      2\u001b[0m \u001b[0;34m\u001b[0m\u001b[0m\n\u001b[1;32m      3\u001b[0m \u001b[0;32mimport\u001b[0m \u001b[0mbase64\u001b[0m\u001b[0;34m\u001b[0m\u001b[0;34m\u001b[0m\u001b[0m\n\u001b[0;32m----> 4\u001b[0;31m \u001b[0;32mimport\u001b[0m \u001b[0mimageio\u001b[0m\u001b[0;34m\u001b[0m\u001b[0;34m\u001b[0m\u001b[0m\n\u001b[0m\u001b[1;32m      5\u001b[0m \u001b[0;32mimport\u001b[0m \u001b[0mIPython\u001b[0m\u001b[0;34m\u001b[0m\u001b[0;34m\u001b[0m\u001b[0m\n\u001b[1;32m      6\u001b[0m \u001b[0;32mimport\u001b[0m \u001b[0mmatplotlib\u001b[0m\u001b[0;34m\u001b[0m\u001b[0;34m\u001b[0m\u001b[0m\n",
      "\u001b[0;31mModuleNotFoundError\u001b[0m: No module named 'imageio'"
     ]
    }
   ],
   "source": [
    "from __future__ import absolute_import, division, print_function\n",
    "\n",
    "import base64\n",
    "import imageio\n",
    "import IPython\n",
    "import matplotlib\n",
    "import matplotlib.pyplot as plt\n",
    "import numpy as np\n",
    "import PIL.Image\n",
    "import pyvirtualdisplay\n",
    "\n",
    "import tensorflow as tf\n",
    "\n",
    "from tf_agents.agents.dqn import dqn_agent\n",
    "from tf_agents.drivers import dynamic_step_driver\n",
    "from tf_agents.environments import suite_gym\n",
    "from tf_agents.environments import tf_py_environment\n",
    "from tf_agents.eval import metric_utils\n",
    "from tf_agents.metrics import tf_metrics\n",
    "from tf_agents.networks import q_network\n",
    "from tf_agents.policies import random_tf_policy\n",
    "from tf_agents.replay_buffers import tf_uniform_replay_buffer\n",
    "from tf_agents.trajectories import trajectory\n",
    "from tf_agents.utils import common"
   ]
  },
  {
   "cell_type": "code",
   "execution_count": 4,
   "metadata": {
    "colab": {},
    "colab_type": "code",
    "execution": {
     "iopub.execute_input": "2021-01-06T12:40:22.321630Z",
     "iopub.status.busy": "2021-01-06T12:40:22.320795Z",
     "iopub.status.idle": "2021-01-06T12:40:22.389698Z",
     "shell.execute_reply": "2021-01-06T12:40:22.389068Z"
    },
    "id": "J6HsdS5GbSjd"
   },
   "outputs": [],
   "source": [
    "tf.compat.v1.enable_v2_behavior()\n",
    "\n",
    "# Set up a virtual display for rendering OpenAI gym environments.\n",
    "display = pyvirtualdisplay.Display(visible=0, size=(1400, 900)).start()"
   ]
  },
  {
   "cell_type": "code",
   "execution_count": 5,
   "metadata": {
    "colab": {},
    "colab_type": "code",
    "execution": {
     "iopub.execute_input": "2021-01-06T12:40:22.396741Z",
     "iopub.status.busy": "2021-01-06T12:40:22.395911Z",
     "iopub.status.idle": "2021-01-06T12:40:22.399922Z",
     "shell.execute_reply": "2021-01-06T12:40:22.400376Z"
    },
    "id": "NspmzG4nP3b9"
   },
   "outputs": [
    {
     "data": {
      "text/plain": [
       "'2.4.0'"
      ]
     },
     "execution_count": 1,
     "metadata": {},
     "output_type": "execute_result"
    }
   ],
   "source": [
    "tf.version.VERSION"
   ]
  },
  {
   "cell_type": "markdown",
   "metadata": {
    "colab_type": "text",
    "id": "LmC0NDhdLIKY"
   },
   "source": [
    "## Hyperparameters"
   ]
  },
  {
   "cell_type": "code",
   "execution_count": 6,
   "metadata": {
    "colab": {},
    "colab_type": "code",
    "execution": {
     "iopub.execute_input": "2021-01-06T12:40:22.405283Z",
     "iopub.status.busy": "2021-01-06T12:40:22.404444Z",
     "iopub.status.idle": "2021-01-06T12:40:22.407245Z",
     "shell.execute_reply": "2021-01-06T12:40:22.406699Z"
    },
    "id": "HC1kNrOsLSIZ"
   },
   "outputs": [],
   "source": [
    "num_iterations = 20000 # @param {type:\"integer\"}\n",
    "\n",
    "initial_collect_steps = 100  # @param {type:\"integer\"} \n",
    "collect_steps_per_iteration = 1  # @param {type:\"integer\"}\n",
    "replay_buffer_max_length = 100000  # @param {type:\"integer\"}\n",
    "\n",
    "batch_size = 64  # @param {type:\"integer\"}\n",
    "learning_rate = 1e-3  # @param {type:\"number\"}\n",
    "log_interval = 200  # @param {type:\"integer\"}\n",
    "\n",
    "num_eval_episodes = 10  # @param {type:\"integer\"}\n",
    "eval_interval = 1000  # @param {type:\"integer\"}"
   ]
  },
  {
   "cell_type": "markdown",
   "metadata": {
    "colab_type": "text",
    "id": "VMsJC3DEgI0x"
   },
   "source": [
    "## Environment\n",
    "\n",
    "In Reinforcement Learning (RL), an environment represents the task or problem to be solved. Standard environments can be created in TF-Agents using `tf_agents.environments` suites. TF-Agents has suites for loading environments from sources such as the OpenAI Gym, Atari, and DM Control.\n",
    "\n",
    "Load the CartPole environment from the OpenAI Gym suite. "
   ]
  },
  {
   "cell_type": "code",
   "execution_count": 7,
   "metadata": {
    "colab": {},
    "colab_type": "code",
    "execution": {
     "iopub.execute_input": "2021-01-06T12:40:22.411850Z",
     "iopub.status.busy": "2021-01-06T12:40:22.411133Z",
     "iopub.status.idle": "2021-01-06T12:40:22.420849Z",
     "shell.execute_reply": "2021-01-06T12:40:22.420204Z"
    },
    "id": "pYEz-S9gEv2-"
   },
   "outputs": [],
   "source": [
    "env_name = 'CartPole-v0'\n",
    "env = suite_gym.load(env_name)"
   ]
  },
  {
   "cell_type": "markdown",
   "metadata": {
    "colab_type": "text",
    "id": "IIHYVBkuvPNw"
   },
   "source": [
    "You can render this environment to see how it looks. A free-swinging pole is attached to a cart.  The goal is to move the cart right or left in order to keep the pole pointing up."
   ]
  },
  {
   "cell_type": "code",
   "execution_count": 8,
   "metadata": {
    "colab": {},
    "colab_type": "code",
    "execution": {
     "iopub.execute_input": "2021-01-06T12:40:22.427550Z",
     "iopub.status.busy": "2021-01-06T12:40:22.426780Z",
     "iopub.status.idle": "2021-01-06T12:40:22.953161Z",
     "shell.execute_reply": "2021-01-06T12:40:22.952405Z"
    },
    "id": "RlO7WIQHu_7D"
   },
   "outputs": [
    {
     "data": {
      "image/png": "[encoded data removed]",
      "text/plain": [
       "<PIL.Image.Image image mode=RGB size=600x400 at 0x7F4258767080>"
      ]
     },
     "execution_count": 1,
     "metadata": {},
     "output_type": "execute_result"
    }
   ],
   "source": [
    "#@test {\"skip\": true}\n",
    "env.reset()\n",
    "PIL.Image.fromarray(env.render())"
   ]
  },
  {
   "cell_type": "markdown",
   "metadata": {
    "colab_type": "text",
    "id": "B9_lskPOey18"
   },
   "source": [
    "The `environment.step` method takes an `action` in the environment and returns a `TimeStep` tuple containing the next observation of the environment and the reward for the action.\n",
    "\n",
    "The `time_step_spec()` method returns the specification for the `TimeStep` tuple. Its `observation` attribute shows the shape of observations, the data types, and the ranges of allowed values. The `reward` attribute shows the same details for the reward.\n"
   ]
  },
  {
   "cell_type": "code",
   "execution_count": 9,
   "metadata": {
    "colab": {},
    "colab_type": "code",
    "execution": {
     "iopub.execute_input": "2021-01-06T12:40:22.963594Z",
     "iopub.status.busy": "2021-01-06T12:40:22.962705Z",
     "iopub.status.idle": "2021-01-06T12:40:22.966468Z",
     "shell.execute_reply": "2021-01-06T12:40:22.965914Z"
    },
    "id": "exDv57iHfwQV"
   },
   "outputs": [
    {
     "name": "stdout",
     "output_type": "stream",
     "text": [
      "Observation Spec:\n",
      "BoundedArraySpec(shape=(4,), dtype=dtype('float32'), name='observation', minimum=[-4.8000002e+00 -3.4028235e+38 -4.1887903e-01 -3.4028235e+38], maximum=[4.8000002e+00 3.4028235e+38 4.1887903e-01 3.4028235e+38])\n"
     ]
    }
   ],
   "source": [
    "print('Observation Spec:')\n",
    "print(env.time_step_spec().observation)"
   ]
  },
  {
   "cell_type": "code",
   "execution_count": 10,
   "metadata": {
    "colab": {},
    "colab_type": "code",
    "execution": {
     "iopub.execute_input": "2021-01-06T12:40:22.971799Z",
     "iopub.status.busy": "2021-01-06T12:40:22.970892Z",
     "iopub.status.idle": "2021-01-06T12:40:22.973591Z",
     "shell.execute_reply": "2021-01-06T12:40:22.974037Z"
    },
    "id": "UxiSyCbBUQPi"
   },
   "outputs": [
    {
     "name": "stdout",
     "output_type": "stream",
     "text": [
      "Reward Spec:\n",
      "ArraySpec(shape=(), dtype=dtype('float32'), name='reward')\n"
     ]
    }
   ],
   "source": [
    "print('Reward Spec:')\n",
    "print(env.time_step_spec().reward)"
   ]
  },
  {
   "cell_type": "markdown",
   "metadata": {
    "colab_type": "text",
    "id": "b_lHcIcqUaqB"
   },
   "source": [
    "The `action_spec()` method returns the shape, data types, and allowed values of valid actions."
   ]
  },
  {
   "cell_type": "code",
   "execution_count": 11,
   "metadata": {
    "colab": {},
    "colab_type": "code",
    "execution": {
     "iopub.execute_input": "2021-01-06T12:40:22.978652Z",
     "iopub.status.busy": "2021-01-06T12:40:22.977799Z",
     "iopub.status.idle": "2021-01-06T12:40:22.980763Z",
     "shell.execute_reply": "2021-01-06T12:40:22.981236Z"
    },
    "id": "bttJ4uxZUQBr"
   },
   "outputs": [
    {
     "name": "stdout",
     "output_type": "stream",
     "text": [
      "Action Spec:\n",
      "BoundedArraySpec(shape=(), dtype=dtype('int64'), name='action', minimum=0, maximum=1)\n"
     ]
    }
   ],
   "source": [
    "print('Action Spec:')\n",
    "print(env.action_spec())"
   ]
  },
  {
   "cell_type": "markdown",
   "metadata": {
    "colab_type": "text",
    "id": "eJCgJnx3g0yY"
   },
   "source": [
    "In the Cartpole environment:\n",
    "\n",
    "-   `observation` is an array of 4 floats: \n",
    "    -   the position and velocity of the cart\n",
    "    -   the angular position and velocity of the pole \n",
    "-   `reward` is a scalar float value\n",
    "-   `action` is a scalar integer with only two possible values:\n",
    "    -   `0` — \"move left\"\n",
    "    -   `1` — \"move right\"\n"
   ]
  },
  {
   "cell_type": "code",
   "execution_count": 12,
   "metadata": {
    "colab": {},
    "colab_type": "code",
    "execution": {
     "iopub.execute_input": "2021-01-06T12:40:22.991256Z",
     "iopub.status.busy": "2021-01-06T12:40:22.990324Z",
     "iopub.status.idle": "2021-01-06T12:40:22.994100Z",
     "shell.execute_reply": "2021-01-06T12:40:22.993567Z"
    },
    "id": "V2UGR5t_iZX-"
   },
   "outputs": [
    {
     "name": "stdout",
     "output_type": "stream",
     "text": [
      "Time step:\n",
      "TimeStep(step_type=array(0, dtype=int32), reward=array(0., dtype=float32), discount=array(1., dtype=float32), observation=array([-0.02220688,  0.02916698, -0.03515396, -0.03343702], dtype=float32))\n",
      "Next time step:\n",
      "TimeStep(step_type=array(1, dtype=int32), reward=array(1., dtype=float32), discount=array(1., dtype=float32), observation=array([-0.02162354,  0.22477496, -0.03582269, -0.33700085], dtype=float32))\n"
     ]
    }
   ],
   "source": [
    "time_step = env.reset()\n",
    "print('Time step:')\n",
    "print(time_step)\n",
    "\n",
    "action = np.array(1, dtype=np.int32)\n",
    "\n",
    "next_time_step = env.step(action)\n",
    "print('Next time step:')\n",
    "print(next_time_step)"
   ]
  },
  {
   "cell_type": "markdown",
   "metadata": {
    "colab_type": "text",
    "id": "4JSc9GviWUBK"
   },
   "source": [
    "Usually two environments are instantiated: one for training and one for evaluation. "
   ]
  },
  {
   "cell_type": "code",
   "execution_count": 13,
   "metadata": {
    "colab": {},
    "colab_type": "code",
    "execution": {
     "iopub.execute_input": "2021-01-06T12:40:23.001219Z",
     "iopub.status.busy": "2021-01-06T12:40:23.000324Z",
     "iopub.status.idle": "2021-01-06T12:40:23.002900Z",
     "shell.execute_reply": "2021-01-06T12:40:23.002414Z"
    },
    "id": "N7brXNIGWXjC"
   },
   "outputs": [],
   "source": [
    "train_py_env = suite_gym.load(env_name)\n",
    "eval_py_env = suite_gym.load(env_name)"
   ]
  },
  {
   "cell_type": "markdown",
   "metadata": {
    "colab_type": "text",
    "id": "zuUqXAVmecTU"
   },
   "source": [
    "The Cartpole environment, like most environments, is written in pure Python. This is converted to TensorFlow using the `TFPyEnvironment` wrapper.\n",
    "\n",
    "The original environment's API uses Numpy arrays. The `TFPyEnvironment` converts these to `Tensors` to make it compatible with Tensorflow agents and policies.\n"
   ]
  },
  {
   "cell_type": "code",
   "execution_count": 14,
   "metadata": {
    "colab": {},
    "colab_type": "code",
    "execution": {
     "iopub.execute_input": "2021-01-06T12:40:23.008138Z",
     "iopub.status.busy": "2021-01-06T12:40:23.007466Z",
     "iopub.status.idle": "2021-01-06T12:40:23.017045Z",
     "shell.execute_reply": "2021-01-06T12:40:23.016491Z"
    },
    "id": "Xp-Y4mD6eDhF"
   },
   "outputs": [],
   "source": [
    "train_env = tf_py_environment.TFPyEnvironment(train_py_env)\n",
    "eval_env = tf_py_environment.TFPyEnvironment(eval_py_env)"
   ]
  },
  {
   "cell_type": "markdown",
   "metadata": {
    "colab_type": "text",
    "id": "E9lW_OZYFR8A"
   },
   "source": [
    "## Agent\n",
    "\n",
    "The algorithm used to solve an RL problem is represented by an `Agent`. TF-Agents provides standard implementations of a variety of `Agents`, including:\n",
    "\n",
    "-   [DQN](https://storage.googleapis.com/deepmind-media/dqn/DQNNaturePaper.pdf) (used in this tutorial)\n",
    "-   [REINFORCE](https://www-anw.cs.umass.edu/~barto/courses/cs687/williams92simple.pdf)\n",
    "-   [DDPG](https://arxiv.org/pdf/1509.02971.pdf)\n",
    "-   [TD3](https://arxiv.org/pdf/1802.09477.pdf)\n",
    "-   [PPO](https://arxiv.org/abs/1707.06347)\n",
    "-   [SAC](https://arxiv.org/abs/1801.01290).\n",
    "\n",
    "The DQN agent can be used in any environment which has a discrete action space.\n",
    "\n",
    "At the heart of a DQN Agent is a `QNetwork`, a neural network model that can learn to predict `QValues` (expected returns) for all actions, given an observation from the environment.\n",
    "\n",
    "Use `tf_agents.networks.q_network` to create a `QNetwork`, passing in the `observation_spec`, `action_spec`, and a tuple describing the number and size of the model's hidden layers.\n"
   ]
  },
  {
   "cell_type": "code",
   "execution_count": 15,
   "metadata": {
    "colab": {},
    "colab_type": "code",
    "execution": {
     "iopub.execute_input": "2021-01-06T12:40:23.022134Z",
     "iopub.status.busy": "2021-01-06T12:40:23.021400Z",
     "iopub.status.idle": "2021-01-06T12:40:23.059058Z",
     "shell.execute_reply": "2021-01-06T12:40:23.058413Z"
    },
    "id": "TgkdEPg_muzV"
   },
   "outputs": [],
   "source": [
    "fc_layer_params = (100,)\n",
    "\n",
    "q_net = q_network.QNetwork(\n",
    "    train_env.observation_spec(),\n",
    "    train_env.action_spec(),\n",
    "    fc_layer_params=fc_layer_params)"
   ]
  },
  {
   "cell_type": "markdown",
   "metadata": {
    "colab_type": "text",
    "id": "z62u55hSmviJ"
   },
   "source": [
    "Now use `tf_agents.agents.dqn.dqn_agent` to instantiate a `DqnAgent`. In addition to the `time_step_spec`, `action_spec` and the QNetwork, the agent constructor also requires an optimizer (in this case, `AdamOptimizer`), a loss function, and an integer step counter."
   ]
  },
  {
   "cell_type": "code",
   "execution_count": 16,
   "metadata": {
    "colab": {},
    "colab_type": "code",
    "execution": {
     "iopub.execute_input": "2021-01-06T12:40:24.490822Z",
     "iopub.status.busy": "2021-01-06T12:40:24.490006Z",
     "iopub.status.idle": "2021-01-06T12:40:25.246838Z",
     "shell.execute_reply": "2021-01-06T12:40:25.246111Z"
    },
    "id": "jbY4yrjTEyc9"
   },
   "outputs": [],
   "source": [
    "optimizer = tf.compat.v1.train.AdamOptimizer(learning_rate=learning_rate)\n",
    "\n",
    "train_step_counter = tf.Variable(0)\n",
    "\n",
    "agent = dqn_agent.DqnAgent(\n",
    "    train_env.time_step_spec(),\n",
    "    train_env.action_spec(),\n",
    "    q_network=q_net,\n",
    "    optimizer=optimizer,\n",
    "    td_errors_loss_fn=common.element_wise_squared_loss,\n",
    "    train_step_counter=train_step_counter)\n",
    "\n",
    "agent.initialize()"
   ]
  },
  {
   "cell_type": "markdown",
   "metadata": {
    "colab_type": "text",
    "id": "I0KLrEPwkn5x"
   },
   "source": [
    "## Policies\n",
    "\n",
    "A policy defines the way an agent acts in an environment. Typically, the goal of reinforcement learning is to train the underlying model until the policy produces the desired outcome.\n",
    "\n",
    "In this tutorial:\n",
    "\n",
    "-   The desired outcome is keeping the pole balanced upright over the cart.\n",
    "-   The policy returns an action (left or right) for each `time_step` observation.\n",
    "\n",
    "Agents contain two policies: \n",
    "\n",
    "-   `agent.policy` — The main policy that is used for evaluation and deployment.\n",
    "-   `agent.collect_policy` — A second policy that is used for data collection.\n"
   ]
  },
  {
   "cell_type": "code",
   "execution_count": 17,
   "metadata": {
    "colab": {},
    "colab_type": "code",
    "execution": {
     "iopub.execute_input": "2021-01-06T12:40:25.251368Z",
     "iopub.status.busy": "2021-01-06T12:40:25.250660Z",
     "iopub.status.idle": "2021-01-06T12:40:25.252306Z",
     "shell.execute_reply": "2021-01-06T12:40:25.252716Z"
    },
    "id": "BwY7StuMkuV4"
   },
   "outputs": [],
   "source": [
    "eval_policy = agent.policy\n",
    "collect_policy = agent.collect_policy"
   ]
  },
  {
   "cell_type": "markdown",
   "metadata": {
    "colab_type": "text",
    "id": "2Qs1Fl3dV0ae"
   },
   "source": [
    "Policies can be created independently of agents. For example, use `tf_agents.policies.random_tf_policy` to create a policy which will randomly select an action for each `time_step`."
   ]
  },
  {
   "cell_type": "code",
   "execution_count": 18,
   "metadata": {
    "colab": {},
    "colab_type": "code",
    "execution": {
     "iopub.execute_input": "2021-01-06T12:40:25.257145Z",
     "iopub.status.busy": "2021-01-06T12:40:25.256504Z",
     "iopub.status.idle": "2021-01-06T12:40:25.258549Z",
     "shell.execute_reply": "2021-01-06T12:40:25.258047Z"
    },
    "id": "HE37-UCIrE69"
   },
   "outputs": [],
   "source": [
    "random_policy = random_tf_policy.RandomTFPolicy(train_env.time_step_spec(),\n",
    "                                                train_env.action_spec())"
   ]
  },
  {
   "cell_type": "markdown",
   "metadata": {
    "colab_type": "text",
    "id": "dOlnlRRsUbxP"
   },
   "source": [
    "To get an action from a policy, call the `policy.action(time_step)` method. The `time_step` contains the observation from the environment. This method returns a `PolicyStep`, which is a named tuple with three components:\n",
    "\n",
    "-   `action` — the action to be taken (in this case, `0` or `1`)\n",
    "-   `state` — used for stateful (that is, RNN-based) policies\n",
    "-   `info` — auxiliary data, such as log probabilities of actions"
   ]
  },
  {
   "cell_type": "code",
   "execution_count": 19,
   "metadata": {
    "colab": {},
    "colab_type": "code",
    "execution": {
     "iopub.execute_input": "2021-01-06T12:40:25.264391Z",
     "iopub.status.busy": "2021-01-06T12:40:25.263741Z",
     "iopub.status.idle": "2021-01-06T12:40:25.267029Z",
     "shell.execute_reply": "2021-01-06T12:40:25.266532Z"
    },
    "id": "5gCcpXswVAxk"
   },
   "outputs": [],
   "source": [
    "example_environment = tf_py_environment.TFPyEnvironment(\n",
    "    suite_gym.load('CartPole-v0'))"
   ]
  },
  {
   "cell_type": "code",
   "execution_count": 20,
   "metadata": {
    "colab": {},
    "colab_type": "code",
    "execution": {
     "iopub.execute_input": "2021-01-06T12:40:25.271802Z",
     "iopub.status.busy": "2021-01-06T12:40:25.271129Z",
     "iopub.status.idle": "2021-01-06T12:40:25.274307Z",
     "shell.execute_reply": "2021-01-06T12:40:25.273790Z"
    },
    "id": "D4DHZtq3Ndis"
   },
   "outputs": [],
   "source": [
    "time_step = example_environment.reset()"
   ]
  },
  {
   "cell_type": "code",
   "execution_count": 21,
   "metadata": {
    "colab": {},
    "colab_type": "code",
    "execution": {
     "iopub.execute_input": "2021-01-06T12:40:25.279666Z",
     "iopub.status.busy": "2021-01-06T12:40:25.278880Z",
     "iopub.status.idle": "2021-01-06T12:40:25.285406Z",
     "shell.execute_reply": "2021-01-06T12:40:25.284870Z"
    },
    "id": "PRFqAUzpNaAW"
   },
   "outputs": [
    {
     "data": {
      "text/plain": [
       "PolicyStep(action=<tf.Tensor: shape=(1,), dtype=int64, numpy=array([1])>, state=(), info=())"
      ]
     },
     "execution_count": 1,
     "metadata": {},
     "output_type": "execute_result"
    }
   ],
   "source": [
    "random_policy.action(time_step)"
   ]
  },
  {
   "cell_type": "markdown",
   "metadata": {
    "colab_type": "text",
    "id": "94rCXQtbUbXv"
   },
   "source": [
    "## Metrics and Evaluation\n",
    "\n",
    "The most common metric used to evaluate a policy is the average return. The return is the sum of rewards obtained while running a policy in an environment for an episode. Several episodes are run, creating an average return.\n",
    "\n",
    "The following function computes the average return of a policy, given the policy, environment, and a number of episodes.\n"
   ]
  },
  {
   "cell_type": "code",
   "execution_count": 22,
   "metadata": {
    "colab": {},
    "colab_type": "code",
    "execution": {
     "iopub.execute_input": "2021-01-06T12:40:25.291396Z",
     "iopub.status.busy": "2021-01-06T12:40:25.290679Z",
     "iopub.status.idle": "2021-01-06T12:40:25.292629Z",
     "shell.execute_reply": "2021-01-06T12:40:25.293028Z"
    },
    "id": "bitzHo5_UbXy"
   },
   "outputs": [],
   "source": [
    "#@test {\"skip\": true}\n",
    "def compute_avg_return(environment, policy, num_episodes=10):\n",
    "\n",
    "  total_return = 0.0\n",
    "  for _ in range(num_episodes):\n",
    "\n",
    "    time_step = environment.reset()\n",
    "    episode_return = 0.0\n",
    "\n",
    "    while not time_step.is_last():\n",
    "      action_step = policy.action(time_step)\n",
    "      time_step = environment.step(action_step.action)\n",
    "      episode_return += time_step.reward\n",
    "    total_return += episode_return\n",
    "\n",
    "  avg_return = total_return / num_episodes\n",
    "  return avg_return.numpy()[0]\n",
    "\n",
    "\n",
    "# See also the metrics module for standard implementations of different metrics.\n",
    "# https://github.com/tensorflow/agents/tree/master/tf_agents/metrics"
   ]
  },
  {
   "cell_type": "markdown",
   "metadata": {
    "colab_type": "text",
    "id": "_snCVvq5Z8lJ"
   },
   "source": [
    "Running this computation on the `random_policy` shows a baseline performance in the environment."
   ]
  },
  {
   "cell_type": "code",
   "execution_count": 23,
   "metadata": {
    "colab": {},
    "colab_type": "code",
    "execution": {
     "iopub.execute_input": "2021-01-06T12:40:25.298040Z",
     "iopub.status.busy": "2021-01-06T12:40:25.297379Z",
     "iopub.status.idle": "2021-01-06T12:40:25.757578Z",
     "shell.execute_reply": "2021-01-06T12:40:25.757030Z"
    },
    "id": "9bgU6Q6BZ8Bp"
   },
   "outputs": [
    {
     "data": {
      "text/plain": [
       "19.3"
      ]
     },
     "execution_count": 1,
     "metadata": {},
     "output_type": "execute_result"
    }
   ],
   "source": [
    "compute_avg_return(eval_env, random_policy, num_eval_episodes)"
   ]
  },
  {
   "cell_type": "markdown",
   "metadata": {
    "colab_type": "text",
    "id": "NLva6g2jdWgr"
   },
   "source": [
    "## Replay Buffer\n",
    "\n",
    "The replay buffer keeps track of data collected from the environment. This tutorial uses `tf_agents.replay_buffers.tf_uniform_replay_buffer.TFUniformReplayBuffer`, as it is the most common. \n",
    "\n",
    "The constructor requires the specs for the data it will be collecting. This is available from the agent using the `collect_data_spec` method. The batch size and maximum buffer length are also required.\n"
   ]
  },
  {
   "cell_type": "code",
   "execution_count": 24,
   "metadata": {
    "colab": {},
    "colab_type": "code",
    "execution": {
     "iopub.execute_input": "2021-01-06T12:40:25.762805Z",
     "iopub.status.busy": "2021-01-06T12:40:25.762138Z",
     "iopub.status.idle": "2021-01-06T12:40:25.773481Z",
     "shell.execute_reply": "2021-01-06T12:40:25.772865Z"
    },
    "id": "vX2zGUWJGWAl"
   },
   "outputs": [],
   "source": [
    "replay_buffer = tf_uniform_replay_buffer.TFUniformReplayBuffer(\n",
    "    data_spec=agent.collect_data_spec,\n",
    "    batch_size=train_env.batch_size,\n",
    "    max_length=replay_buffer_max_length)"
   ]
  },
  {
   "cell_type": "markdown",
   "metadata": {
    "colab_type": "text",
    "id": "ZGNTDJpZs4NN"
   },
   "source": [
    "For most agents, `collect_data_spec` is a named tuple called `Trajectory`, containing the specs for observations, actions, rewards, and other items."
   ]
  },
  {
   "cell_type": "code",
   "execution_count": 25,
   "metadata": {
    "colab": {},
    "colab_type": "code",
    "execution": {
     "iopub.execute_input": "2021-01-06T12:40:25.779331Z",
     "iopub.status.busy": "2021-01-06T12:40:25.778510Z",
     "iopub.status.idle": "2021-01-06T12:40:25.781944Z",
     "shell.execute_reply": "2021-01-06T12:40:25.781413Z"
    },
    "id": "_IZ-3HcqgE1z"
   },
   "outputs": [
    {
     "data": {
      "text/plain": [
       "Trajectory(step_type=TensorSpec(shape=(), dtype=tf.int32, name='step_type'), observation=BoundedTensorSpec(shape=(4,), dtype=tf.float32, name='observation', minimum=array([-4.8000002e+00, -3.4028235e+38, -4.1887903e-01, -3.4028235e+38],\n",
       "      dtype=float32), maximum=array([4.8000002e+00, 3.4028235e+38, 4.1887903e-01, 3.4028235e+38],\n",
       "      dtype=float32)), action=BoundedTensorSpec(shape=(), dtype=tf.int64, name='action', minimum=array(0), maximum=array(1)), policy_info=(), next_step_type=TensorSpec(shape=(), dtype=tf.int32, name='step_type'), reward=TensorSpec(shape=(), dtype=tf.float32, name='reward'), discount=BoundedTensorSpec(shape=(), dtype=tf.float32, name='discount', minimum=array(0., dtype=float32), maximum=array(1., dtype=float32)))"
      ]
     },
     "execution_count": 1,
     "metadata": {},
     "output_type": "execute_result"
    }
   ],
   "source": [
    "agent.collect_data_spec"
   ]
  },
  {
   "cell_type": "code",
   "execution_count": 26,
   "metadata": {
    "colab": {},
    "colab_type": "code",
    "execution": {
     "iopub.execute_input": "2021-01-06T12:40:25.786431Z",
     "iopub.status.busy": "2021-01-06T12:40:25.785678Z",
     "iopub.status.idle": "2021-01-06T12:40:25.788921Z",
     "shell.execute_reply": "2021-01-06T12:40:25.788374Z"
    },
    "id": "sy6g1tGcfRlw"
   },
   "outputs": [
    {
     "data": {
      "text/plain": [
       "('step_type',\n",
       " 'observation',\n",
       " 'action',\n",
       " 'policy_info',\n",
       " 'next_step_type',\n",
       " 'reward',\n",
       " 'discount')"
      ]
     },
     "execution_count": 1,
     "metadata": {},
     "output_type": "execute_result"
    }
   ],
   "source": [
    "agent.collect_data_spec._fields"
   ]
  },
  {
   "cell_type": "markdown",
   "metadata": {
    "colab_type": "text",
    "id": "rVD5nQ9ZGo8_"
   },
   "source": [
    "## Data Collection\n",
    "\n",
    "Now execute the random policy in the environment for a few steps, recording the data in the replay buffer."
   ]
  },
  {
   "cell_type": "code",
   "execution_count": 27,
   "metadata": {
    "colab": {},
    "colab_type": "code",
    "execution": {
     "iopub.execute_input": "2021-01-06T12:40:25.796192Z",
     "iopub.status.busy": "2021-01-06T12:40:25.795504Z",
     "iopub.status.idle": "2021-01-06T12:40:26.195846Z",
     "shell.execute_reply": "2021-01-06T12:40:26.195178Z"
    },
    "id": "wr1KSAEGG4h9"
   },
   "outputs": [],
   "source": [
    "#@test {\"skip\": true}\n",
    "def collect_step(environment, policy, buffer):\n",
    "  time_step = environment.current_time_step()\n",
    "  action_step = policy.action(time_step)\n",
    "  next_time_step = environment.step(action_step.action)\n",
    "  traj = trajectory.from_transition(time_step, action_step, next_time_step)\n",
    "\n",
    "  # Add trajectory to the replay buffer\n",
    "  buffer.add_batch(traj)\n",
    "\n",
    "def collect_data(env, policy, buffer, steps):\n",
    "  for _ in range(steps):\n",
    "    collect_step(env, policy, buffer)\n",
    "\n",
    "collect_data(train_env, random_policy, replay_buffer, initial_collect_steps)\n",
    "\n",
    "# This loop is so common in RL, that we provide standard implementations. \n",
    "# For more details see the drivers module.\n",
    "# https://www.tensorflow.org/agents/api_docs/python/tf_agents/drivers"
   ]
  },
  {
   "cell_type": "markdown",
   "metadata": {
    "colab_type": "text",
    "id": "84z5pQJdoKxo"
   },
   "source": [
    "The replay buffer is now a collection of Trajectories."
   ]
  },
  {
   "cell_type": "code",
   "execution_count": 28,
   "metadata": {
    "colab": {},
    "colab_type": "code",
    "execution": {
     "iopub.execute_input": "2021-01-06T12:40:26.200199Z",
     "iopub.status.busy": "2021-01-06T12:40:26.199557Z",
     "iopub.status.idle": "2021-01-06T12:40:26.201601Z",
     "shell.execute_reply": "2021-01-06T12:40:26.202086Z"
    },
    "id": "4wZnLu2ViO4E"
   },
   "outputs": [],
   "source": [
    "# For the curious:\n",
    "# Uncomment to peel one of these off and inspect it.\n",
    "# iter(replay_buffer.as_dataset()).next()"
   ]
  },
  {
   "cell_type": "markdown",
   "metadata": {
    "colab_type": "text",
    "id": "TujU-PMUsKjS"
   },
   "source": [
    "The agent needs access to the replay buffer. This is provided by creating an iterable `tf.data.Dataset` pipeline which will feed data to the agent.\n",
    "\n",
    "Each row of the replay buffer only stores a single observation step. But since the DQN Agent needs both the current and next observation to compute the loss, the dataset pipeline will sample two adjacent rows for each item in the batch (`num_steps=2`).\n",
    "\n",
    "This dataset is also optimized by running parallel calls and prefetching data."
   ]
  },
  {
   "cell_type": "code",
   "execution_count": 29,
   "metadata": {
    "colab": {},
    "colab_type": "code",
    "execution": {
     "iopub.execute_input": "2021-01-06T12:40:26.206914Z",
     "iopub.status.busy": "2021-01-06T12:40:26.206194Z",
     "iopub.status.idle": "2021-01-06T12:40:26.991170Z",
     "shell.execute_reply": "2021-01-06T12:40:26.990562Z"
    },
    "id": "ba7bilizt_qW"
   },
   "outputs": [
    {
     "name": "stdout",
     "output_type": "stream",
     "text": [
      "WARNING:tensorflow:From /tmpfs/src/tf_docs_env/lib/python3.6/site-packages/tensorflow/python/autograph/operators/control_flow.py:1218: ReplayBuffer.get_next (from tf_agents.replay_buffers.replay_buffer) is deprecated and will be removed in a future version.\n",
      "Instructions for updating:\n",
      "Use `as_dataset(..., single_deterministic_pass=False) instead.\n"
     ]
    },
    {
     "data": {
      "text/plain": [
       "<PrefetchDataset shapes: (Trajectory(step_type=(64, 2), observation=(64, 2, 4), action=(64, 2), policy_info=(), next_step_type=(64, 2), reward=(64, 2), discount=(64, 2)), BufferInfo(ids=(64, 2), probabilities=(64,))), types: (Trajectory(step_type=tf.int32, observation=tf.float32, action=tf.int64, policy_info=(), next_step_type=tf.int32, reward=tf.float32, discount=tf.float32), BufferInfo(ids=tf.int64, probabilities=tf.float32))>"
      ]
     },
     "execution_count": 1,
     "metadata": {},
     "output_type": "execute_result"
    }
   ],
   "source": [
    "# Dataset generates trajectories with shape [Bx2x...]\n",
    "dataset = replay_buffer.as_dataset(\n",
    "    num_parallel_calls=3, \n",
    "    sample_batch_size=batch_size, \n",
    "    num_steps=2).prefetch(3)\n",
    "\n",
    "\n",
    "dataset"
   ]
  },
  {
   "cell_type": "code",
   "execution_count": 30,
   "metadata": {
    "colab": {},
    "colab_type": "code",
    "execution": {
     "iopub.execute_input": "2021-01-06T12:40:26.996749Z",
     "iopub.status.busy": "2021-01-06T12:40:26.995170Z",
     "iopub.status.idle": "2021-01-06T12:40:27.055740Z",
     "shell.execute_reply": "2021-01-06T12:40:27.055186Z"
    },
    "id": "K13AST-2ppOq"
   },
   "outputs": [
    {
     "name": "stdout",
     "output_type": "stream",
     "text": [
      "<tensorflow.python.data.ops.iterator_ops.OwnedIterator object at 0x7f424ef1e080>\n"
     ]
    }
   ],
   "source": [
    "iterator = iter(dataset)\n",
    "\n",
    "print(iterator)\n"
   ]
  },
  {
   "cell_type": "code",
   "execution_count": 31,
   "metadata": {
    "colab": {},
    "colab_type": "code",
    "execution": {
     "iopub.execute_input": "2021-01-06T12:40:27.059744Z",
     "iopub.status.busy": "2021-01-06T12:40:27.058993Z",
     "iopub.status.idle": "2021-01-06T12:40:27.061540Z",
     "shell.execute_reply": "2021-01-06T12:40:27.061011Z"
    },
    "id": "Th5w5Sff0b16"
   },
   "outputs": [],
   "source": [
    "# For the curious:\n",
    "# Uncomment to see what the dataset iterator is feeding to the agent.\n",
    "# Compare this representation of replay data \n",
    "# to the collection of individual trajectories shown earlier.\n",
    "\n",
    "# iterator.next()"
   ]
  },
  {
   "cell_type": "markdown",
   "metadata": {
    "colab_type": "text",
    "id": "hBc9lj9VWWtZ"
   },
   "source": [
    "## Training the agent\n",
    "\n",
    "Two things must happen during the training loop:\n",
    "\n",
    "-   collect data from the environment\n",
    "-   use that data to train the agent's neural network(s)\n",
    "\n",
    "This example also periodicially evaluates the policy and prints the current score.\n",
    "\n",
    "The following will take ~5 minutes to run."
   ]
  },
  {
   "cell_type": "code",
   "execution_count": 32,
   "metadata": {
    "colab": {},
    "colab_type": "code",
    "execution": {
     "iopub.execute_input": "2021-01-06T12:40:27.071558Z",
     "iopub.status.busy": "2021-01-06T12:40:27.069263Z",
     "iopub.status.idle": "2021-01-06T12:46:25.693494Z",
     "shell.execute_reply": "2021-01-06T12:46:25.692885Z"
    },
    "id": "0pTbJ3PeyF-u"
   },
   "outputs": [
    {
     "name": "stdout",
     "output_type": "stream",
     "text": [
      "WARNING:tensorflow:From /tmpfs/src/tf_docs_env/lib/python3.6/site-packages/tensorflow/python/util/dispatch.py:201: calling foldr_v2 (from tensorflow.python.ops.functional_ops) with back_prop=False is deprecated and will be removed in a future version.\n",
      "Instructions for updating:\n",
      "back_prop=False is deprecated. Consider using tf.stop_gradient instead.\n",
      "Instead of:\n",
      "results = tf.foldr(fn, elems, back_prop=False)\n",
      "Use:\n",
      "results = tf.nest.map_structure(tf.stop_gradient, tf.foldr(fn, elems))\n",
      "step = 200: loss = 12.070486068725586\n",
      "step = 400: loss = 8.28309440612793\n",
      "step = 600: loss = 31.025835037231445\n",
      "step = 800: loss = 13.815164566040039\n",
      "step = 1000: loss = 8.706375122070312\n",
      "step = 1000: Average Return = 146.10000610351562\n",
      "step = 1200: loss = 5.937136650085449\n",
      "step = 1400: loss = 8.289731979370117\n",
      "step = 1600: loss = 33.76885223388672\n",
      "step = 1800: loss = 47.953025817871094\n",
      "step = 2000: loss = 52.09583282470703\n",
      "step = 2000: Average Return = 27.799999237060547\n",
      "step = 2200: loss = 5.141240119934082\n",
      "step = 2400: loss = 21.2930908203125\n",
      "step = 2600: loss = 25.088130950927734\n",
      "step = 2800: loss = 56.888206481933594\n",
      "step = 3000: loss = 76.79216003417969\n",
      "step = 3000: Average Return = 21.700000762939453\n",
      "step = 3200: loss = 26.36425018310547\n",
      "step = 3400: loss = 4.469114780426025\n",
      "step = 3600: loss = 34.6283073425293\n",
      "step = 3800: loss = 14.598098754882812\n",
      "step = 4000: loss = 17.743749618530273\n",
      "step = 4000: Average Return = 46.0\n",
      "step = 4200: loss = 26.917938232421875\n",
      "step = 4400: loss = 56.554386138916016\n",
      "step = 4600: loss = 19.315950393676758\n",
      "step = 4800: loss = 16.675647735595703\n",
      "step = 5000: loss = 136.85499572753906\n",
      "step = 5000: Average Return = 126.4000015258789\n",
      "step = 5200: loss = 35.19789123535156\n",
      "step = 5400: loss = 88.04693603515625\n",
      "step = 5600: loss = 70.27599334716797\n",
      "step = 5800: loss = 72.77832794189453\n",
      "step = 6000: loss = 57.98759078979492\n",
      "step = 6000: Average Return = 127.4000015258789\n",
      "step = 6200: loss = 191.23748779296875\n",
      "step = 6400: loss = 6.994782447814941\n",
      "step = 6600: loss = 90.5509033203125\n",
      "step = 6800: loss = 38.94111251831055\n",
      "step = 7000: loss = 8.685359001159668\n",
      "step = 7000: Average Return = 130.5\n",
      "step = 7200: loss = 128.6968536376953\n",
      "step = 7400: loss = 82.48645782470703\n",
      "step = 7600: loss = 44.56972122192383\n",
      "step = 7800: loss = 55.02344512939453\n",
      "step = 8000: loss = 141.50399780273438\n",
      "step = 8000: Average Return = 159.3000030517578\n",
      "step = 8200: loss = 6.795340061187744\n",
      "step = 8400: loss = 13.114398956298828\n",
      "step = 8600: loss = 91.94058990478516\n",
      "step = 8800: loss = 82.01240539550781\n",
      "step = 9000: loss = 44.955650329589844\n",
      "step = 9000: Average Return = 178.8000030517578\n",
      "step = 9200: loss = 68.20870208740234\n",
      "step = 9400: loss = 154.3193359375\n",
      "step = 9600: loss = 137.314453125\n",
      "step = 9800: loss = 74.73216247558594\n",
      "step = 10000: loss = 91.0711441040039\n",
      "step = 10000: Average Return = 184.6999969482422\n",
      "step = 10200: loss = 85.52545166015625\n",
      "step = 10400: loss = 8.654191970825195\n",
      "step = 10600: loss = 22.928178787231445\n",
      "step = 10800: loss = 20.545730590820312\n",
      "step = 11000: loss = 271.4393005371094\n",
      "step = 11000: Average Return = 174.3000030517578\n",
      "step = 11200: loss = 9.628021240234375\n",
      "step = 11400: loss = 137.62472534179688\n",
      "step = 11600: loss = 5.842207908630371\n",
      "step = 11800: loss = 174.1510772705078\n",
      "step = 12000: loss = 7.528541564941406\n",
      "step = 12000: Average Return = 182.1999969482422\n",
      "step = 12200: loss = 8.867502212524414\n",
      "step = 12400: loss = 81.00005340576172\n",
      "step = 12600: loss = 12.920578002929688\n",
      "step = 12800: loss = 142.42262268066406\n",
      "step = 13000: loss = 143.52105712890625\n",
      "step = 13000: Average Return = 155.5\n",
      "step = 13200: loss = 297.1153259277344\n",
      "step = 13400: loss = 390.66412353515625\n",
      "step = 13600: loss = 142.9129638671875\n",
      "step = 13800: loss = 63.83035659790039\n",
      "step = 14000: loss = 21.4559268951416\n",
      "step = 14000: Average Return = 162.8000030517578\n",
      "step = 14200: loss = 129.82550048828125\n",
      "step = 14400: loss = 16.236011505126953\n",
      "step = 14600: loss = 9.619779586791992\n",
      "step = 14800: loss = 184.36654663085938\n",
      "step = 15000: loss = 10.463872909545898\n",
      "step = 15000: Average Return = 183.0\n",
      "step = 15200: loss = 33.84937286376953\n",
      "step = 15400: loss = 30.32630157470703\n",
      "step = 15600: loss = 453.1896667480469\n",
      "step = 15800: loss = 215.66067504882812\n",
      "step = 16000: loss = 524.3294677734375\n",
      "step = 16000: Average Return = 188.5\n",
      "step = 16200: loss = 25.474245071411133\n",
      "step = 16400: loss = 493.87481689453125\n",
      "step = 16600: loss = 44.63227462768555\n",
      "step = 16800: loss = 22.07838249206543\n",
      "step = 17000: loss = 1202.003662109375\n",
      "step = 17000: Average Return = 196.8000030517578\n",
      "step = 17200: loss = 253.89215087890625\n",
      "step = 17400: loss = 256.4725646972656\n",
      "step = 17600: loss = 12.142976760864258\n",
      "step = 17800: loss = 28.95887565612793\n",
      "step = 18000: loss = 334.6312561035156\n",
      "step = 18000: Average Return = 184.8000030517578\n",
      "step = 18200: loss = 14.26879596710205\n",
      "step = 18400: loss = 375.1312561035156\n",
      "step = 18600: loss = 295.83953857421875\n",
      "step = 18800: loss = 38.81288528442383\n",
      "step = 19000: loss = 20.399158477783203\n",
      "step = 19000: Average Return = 182.5\n",
      "step = 19200: loss = 33.21414566040039\n",
      "step = 19400: loss = 32.32746124267578\n",
      "step = 19600: loss = 706.607177734375\n",
      "step = 19800: loss = 381.3253479003906\n",
      "step = 20000: loss = 349.1406555175781\n",
      "step = 20000: Average Return = 178.89999389648438\n"
     ]
    }
   ],
   "source": [
    "#@test {\"skip\": true}\n",
    "try:\n",
    "  %%time\n",
    "except:\n",
    "  pass\n",
    "\n",
    "# (Optional) Optimize by wrapping some of the code in a graph using TF function.\n",
    "agent.train = common.function(agent.train)\n",
    "\n",
    "# Reset the train step\n",
    "agent.train_step_counter.assign(0)\n",
    "\n",
    "# Evaluate the agent's policy once before training.\n",
    "avg_return = compute_avg_return(eval_env, agent.policy, num_eval_episodes)\n",
    "returns = [avg_return]\n",
    "\n",
    "for _ in range(num_iterations):\n",
    "\n",
    "  # Collect a few steps using collect_policy and save to the replay buffer.\n",
    "  collect_data(train_env, agent.collect_policy, replay_buffer, collect_steps_per_iteration)\n",
    "\n",
    "  # Sample a batch of data from the buffer and update the agent's network.\n",
    "  experience, unused_info = next(iterator)\n",
    "  train_loss = agent.train(experience).loss\n",
    "\n",
    "  step = agent.train_step_counter.numpy()\n",
    "\n",
    "  if step % log_interval == 0:\n",
    "    print('step = {0}: loss = {1}'.format(step, train_loss))\n",
    "\n",
    "  if step % eval_interval == 0:\n",
    "    avg_return = compute_avg_return(eval_env, agent.policy, num_eval_episodes)\n",
    "    print('step = {0}: Average Return = {1}'.format(step, avg_return))\n",
    "    returns.append(avg_return)"
   ]
  },
  {
   "cell_type": "markdown",
   "metadata": {
    "colab_type": "text",
    "id": "68jNcA_TiJDq"
   },
   "source": [
    "## Visualization\n"
   ]
  },
  {
   "cell_type": "markdown",
   "metadata": {
    "colab_type": "text",
    "id": "aO-LWCdbbOIC"
   },
   "source": [
    "### Plots\n",
    "\n",
    "Use `matplotlib.pyplot` to chart how the policy improved during training.\n",
    "\n",
    "One iteration of `Cartpole-v0` consists of 200 time steps. The environment gives a reward of `+1` for each step the pole stays up, so the maximum return for one episode is 200. The charts shows the return increasing towards that maximum each time it is evaluated during training. (It may be a little unstable and not increase monotonically each time.)"
   ]
  },
  {
   "cell_type": "code",
   "execution_count": 33,
   "metadata": {
    "colab": {},
    "colab_type": "code",
    "execution": {
     "iopub.execute_input": "2021-01-06T12:46:25.714026Z",
     "iopub.status.busy": "2021-01-06T12:46:25.712898Z",
     "iopub.status.idle": "2021-01-06T12:46:25.842322Z",
     "shell.execute_reply": "2021-01-06T12:46:25.842831Z"
    },
    "id": "NxtL1mbOYCVO"
   },
   "outputs": [
    {
     "data": {
      "text/plain": [
       "(4.125000047683715, 250.0)"
      ]
     },
     "execution_count": 1,
     "metadata": {},
     "output_type": "execute_result"
    },
    {
     "data": {
      "image/png": "[encoded data removed]",
      "text/plain": [
       "<Figure size 432x288 with 1 Axes>"
      ]
     },
     "metadata": {
      "needs_background": "light"
     },
     "output_type": "display_data"
    }
   ],
   "source": [
    "#@test {\"skip\": true}\n",
    "\n",
    "iterations = range(0, num_iterations + 1, eval_interval)\n",
    "plt.plot(iterations, returns)\n",
    "plt.ylabel('Average Return')\n",
    "plt.xlabel('Iterations')\n",
    "plt.ylim(top=250)"
   ]
  },
  {
   "cell_type": "markdown",
   "metadata": {
    "colab_type": "text",
    "id": "M7-XpPP99Cy7"
   },
   "source": [
    "### Videos"
   ]
  },
  {
   "cell_type": "markdown",
   "metadata": {
    "colab_type": "text",
    "id": "9pGfGxSH32gn"
   },
   "source": [
    "Charts are nice. But more exciting is seeing an agent actually performing a task in an environment. \n",
    "\n",
    "First, create a function to embed videos in the notebook."
   ]
  },
  {
   "cell_type": "code",
   "execution_count": 34,
   "metadata": {
    "colab": {},
    "colab_type": "code",
    "execution": {
     "iopub.execute_input": "2021-01-06T12:46:25.849837Z",
     "iopub.status.busy": "2021-01-06T12:46:25.848657Z",
     "iopub.status.idle": "2021-01-06T12:46:25.851586Z",
     "shell.execute_reply": "2021-01-06T12:46:25.851000Z"
    },
    "id": "ULaGr8pvOKbl"
   },
   "outputs": [],
   "source": [
    "def embed_mp4(filename):\n",
    "  \"\"\"Embeds an mp4 file in the notebook.\"\"\"\n",
    "  video = open(filename,'rb').read()\n",
    "  b64 = base64.b64encode(video)\n",
    "  tag = '''\n",
    "  <video width=\"640\" height=\"480\" controls>\n",
    "    <source src=\"data:video/mp4;base64,{0}\" type=\"video/mp4\">\n",
    "  Your browser does not support the video tag.\n",
    "  </video>'''.format(b64.decode())\n",
    "\n",
    "  return IPython.display.HTML(tag)"
   ]
  },
  {
   "cell_type": "markdown",
   "metadata": {
    "colab_type": "text",
    "id": "9c_PH-pX4Pr5"
   },
   "source": [
    "Now iterate through a few episodes of the Cartpole game with the agent. The underlying Python environment (the one \"inside\" the TensorFlow environment wrapper) provides a `render()` method, which outputs an image of the environment state. These can be collected into a video."
   ]
  },
  {
   "cell_type": "code",
   "execution_count": 35,
   "metadata": {
    "colab": {},
    "colab_type": "code",
    "execution": {
     "iopub.execute_input": "2021-01-06T12:46:25.859415Z",
     "iopub.status.busy": "2021-01-06T12:46:25.858462Z",
     "iopub.status.idle": "2021-01-06T12:46:37.181522Z",
     "shell.execute_reply": "2021-01-06T12:46:37.181977Z"
    },
    "id": "owOVWB158NlF"
   },
   "outputs": [
    {
     "name": "stderr",
     "output_type": "stream",
     "text": [
      "WARNING:root:IMAGEIO FFMPEG_WRITER WARNING: input image is not divisible by macro_block_size=16, resizing from (400, 600) to (400, 608) to ensure video compatibility with most codecs and players. To prevent resizing, make your input image divisible by the macro_block_size or set the macro_block_size to None (risking incompatibility). You may also see a FFMPEG warning concerning speedloss due to data not being aligned.\n"
     ]
    },
    {
     "data": {
      "text/html": [
       "\n",
       "  <video width=\"640\" height=\"480\" controls>\n",
       "    <source src=\"data:video/mp4;base64,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\" type=\"video/mp4\">\n",
       "  Your browser does not support the video tag.\n",
       "  </video>"
      ],
      "text/plain": [
       "<IPython.core.display.HTML object>"
      ]
     },
     "execution_count": 1,
     "metadata": {},
     "output_type": "execute_result"
    }
   ],
   "source": [
    "def create_policy_eval_video(policy, filename, num_episodes=5, fps=30):\n",
    "  filename = filename + \".mp4\"\n",
    "  with imageio.get_writer(filename, fps=fps) as video:\n",
    "    for _ in range(num_episodes):\n",
    "      time_step = eval_env.reset()\n",
    "      video.append_data(eval_py_env.render())\n",
    "      while not time_step.is_last():\n",
    "        action_step = policy.action(time_step)\n",
    "        time_step = eval_env.step(action_step.action)\n",
    "        video.append_data(eval_py_env.render())\n",
    "  return embed_mp4(filename)\n",
    "\n",
    "\n",
    "\n",
    "\n",
    "create_policy_eval_video(agent.policy, \"trained-agent\")"
   ]
  },
  {
   "cell_type": "markdown",
   "metadata": {
    "colab_type": "text",
    "id": "povaAOcZygLw"
   },
   "source": [
    "For fun, compare the trained agent (above) to an agent moving randomly. (It does not do as well.)"
   ]
  },
  {
   "cell_type": "code",
   "execution_count": 36,
   "metadata": {
    "colab": {},
    "colab_type": "code",
    "execution": {
     "iopub.execute_input": "2021-01-06T12:46:37.187733Z",
     "iopub.status.busy": "2021-01-06T12:46:37.187047Z",
     "iopub.status.idle": "2021-01-06T12:46:38.381971Z",
     "shell.execute_reply": "2021-01-06T12:46:38.381399Z"
    },
    "id": "pJZIdC37yNH4"
   },
   "outputs": [
    {
     "name": "stderr",
     "output_type": "stream",
     "text": [
      "WARNING:root:IMAGEIO FFMPEG_WRITER WARNING: input image is not divisible by macro_block_size=16, resizing from (400, 600) to (400, 608) to ensure video compatibility with most codecs and players. To prevent resizing, make your input image divisible by the macro_block_size or set the macro_block_size to None (risking incompatibility). You may also see a FFMPEG warning concerning speedloss due to data not being aligned.\n"
     ]
    },
    {
     "data": {
      "text/html": [
       "\n",
       "  <video width=\"640\" height=\"480\" controls>\n",
       "    <source src=\"data:video/mp4;base64,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\" type=\"video/mp4\">\n",
       "  Your browser does not support the video tag.\n",
       "  </video>"
      ],
      "text/plain": [
       "<IPython.core.display.HTML object>"
      ]
     },
     "execution_count": 1,
     "metadata": {},
     "output_type": "execute_result"
    }
   ],
   "source": [
    "create_policy_eval_video(random_policy, \"random-agent\")"
   ]
  }
 ],
 "metadata": {
  "colab": {
   "collapsed_sections": [],
   "name": "DQN Tutorial.ipynb",
   "private_outputs": true,
   "provenance": [],
   "toc_visible": true
  },
  "kernelspec": {
   "display_name": "Python 3",
   "language": "python",
   "name": "python3"
  },
  "language_info": {
   "codemirror_mode": {
    "name": "ipython",
    "version": 3
   },
   "file_extension": ".py",
   "mimetype": "text/x-python",
   "name": "python",
   "nbconvert_exporter": "python",
   "pygments_lexer": "ipython3",
   "version": "3.8.6"
  },
  "pycharm": {
   "stem_cell": {
    "cell_type": "raw",
    "metadata": {
     "collapsed": false
    },
    "source": []
   }
  }
 },
 "nbformat": 4,
 "nbformat_minor": 1
}
